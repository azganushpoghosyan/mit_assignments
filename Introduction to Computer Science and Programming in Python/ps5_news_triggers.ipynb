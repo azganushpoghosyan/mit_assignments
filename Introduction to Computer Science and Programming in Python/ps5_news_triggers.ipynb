{
  "nbformat": 4,
  "nbformat_minor": 0,
  "metadata": {
    "colab": {
      "name": "ps5_news_triggers.ipynb",
      "provenance": [],
      "collapsed_sections": [],
      "authorship_tag": "ABX9TyMJQgVAYAWfEYctx93WKmiR",
      "include_colab_link": true
    },
    "kernelspec": {
      "name": "python3",
      "display_name": "Python 3"
    },
    "language_info": {
      "name": "python"
    }
  },
  "cells": [
    {
      "cell_type": "markdown",
      "metadata": {
        "id": "view-in-github",
        "colab_type": "text"
      },
      "source": [
        "<a href=\"https://colab.research.google.com/github/azganushpoghosyan/mit_assignments/blob/main/ps5_news_triggers.ipynb\" target=\"_parent\"><img src=\"https://colab.research.google.com/assets/colab-badge.svg\" alt=\"Open In Colab\"/></a>"
      ]
    },
    {
      "cell_type": "code",
      "metadata": {
        "id": "CJRgtlDkhfV3"
      },
      "source": [
        "def process(url):\n",
        "    \"\"\"\n",
        "    Fetches news items from the rss url and parses them.\n",
        "    Returns a list of NewsStory-s.\n",
        "    \"\"\"\n",
        "    feed = feedparser.parse(url)\n",
        "    entries = feed.entries\n",
        "    ret = []\n",
        "    for entry in entries:\n",
        "        guid = entry.guid\n",
        "        title = translate_html(entry.title)\n",
        "        link = entry.link\n",
        "        description = translate_html(entry.description)\n",
        "        pubdate = translate_html(entry.published)\n",
        "\n",
        "        try:\n",
        "            pubdate = datetime.strptime(pubdate, \"%a, %d %b %Y %H:%M:%S %Z\")\n",
        "            pubdate.replace(tzinfo=pytz.timezone(\"GMT\"))\n",
        "          #  pubdate = pubdate.astimezone(pytz.timezone('EST'))\n",
        "          #  pubdate.replace(tzinfo=None)\n",
        "        except ValueError:\n",
        "            pubdate = datetime.strptime(pubdate, \"%a, %d %b %Y %H:%M:%S %z\")\n",
        "\n",
        "        newsStory = NewsStory(guid, title, description, link, pubdate)\n",
        "        ret.append(newsStory)\n",
        "    return ret"
      ],
      "execution_count": null,
      "outputs": []
    },
    {
      "cell_type": "markdown",
      "metadata": {
        "id": "7AIg1UqCeu3h"
      },
      "source": [
        "###Problem 1"
      ]
    },
    {
      "cell_type": "code",
      "metadata": {
        "id": "Uls09KrYcox_"
      },
      "source": [
        "class NewsStory(object):\n",
        "\n",
        "  def __init__(guid, title, description, link, pubdate):\n",
        "    self.guid = guid\n",
        "    self.title = title\n",
        "    self.description = description\n",
        "    self.link = link\n",
        "    self.pubdate = pubdate\n",
        "  \n",
        "  def get_guid(self):\n",
        "    return self.guid\n",
        "\n",
        "  def get_title(self):\n",
        "    return self.title\n",
        "\n",
        "  def get_description(self):\n",
        "    return self.description\n",
        "\n",
        "  def get_link(self):\n",
        "    return self.link\n",
        "\n",
        "  def get_pubdate(self):\n",
        "    return self.pubdate"
      ],
      "execution_count": null,
      "outputs": []
    },
    {
      "cell_type": "code",
      "metadata": {
        "id": "NYuGqExcgTMw"
      },
      "source": [
        "class Trigger(object):\n",
        "\n",
        "  def evaluate(self, story):\n",
        "\n",
        "    \"\"\"\n",
        "    Returns True if an alert should be generated\n",
        "    for the given news item, or False otherwise.\n",
        "    \"\"\"\n",
        "    raise NotImplementedError"
      ],
      "execution_count": null,
      "outputs": []
    },
    {
      "cell_type": "markdown",
      "metadata": {
        "id": "43sAF5QGhwvN"
      },
      "source": [
        "###Problem 2"
      ]
    },
    {
      "cell_type": "code",
      "metadata": {
        "id": "M_uglLk6huPZ"
      },
      "source": [
        "import string\n",
        "class PhraseTrigger(Trigger):\n",
        "\n",
        "  def __init__(self, phrase):\n",
        "    self.phrase = phrase\n",
        "  \n",
        "  def is_phrase_in(self, text):\n",
        "    phrase_clean = ' ' + self.phrase.lower() + ' '\n",
        "    text_no_punc = ''.join(' ' if char in string.punctuation else char for char in text)\n",
        "    text_clean = ' ' + ' '.join(text_no_punc.split()).lower() + ' '\n",
        "    if phrase_clean in text_clean:\n",
        "      return True\n",
        "    else:\n",
        "      return False"
      ],
      "execution_count": null,
      "outputs": []
    },
    {
      "cell_type": "code",
      "metadata": {
        "id": "dH-cNC0hkEZp"
      },
      "source": [
        "obj1 = PhraseTrigger('purple cow')"
      ],
      "execution_count": null,
      "outputs": []
    },
    {
      "cell_type": "code",
      "metadata": {
        "colab": {
          "base_uri": "https://localhost:8080/"
        },
        "id": "M36DO_c4kMbd",
        "outputId": "cd3ab8fe-eaf8-4b1e-b874-57d153339460"
      },
      "source": [
        "obj1.is_phrase_in('purplecowpurplecowpurplecow')"
      ],
      "execution_count": null,
      "outputs": [
        {
          "output_type": "execute_result",
          "data": {
            "text/plain": [
              "False"
            ]
          },
          "metadata": {},
          "execution_count": 6
        }
      ]
    },
    {
      "cell_type": "code",
      "metadata": {
        "id": "anNbVijl_5av"
      },
      "source": [
        "class TitleTrigger(PhraseTrigger):\n",
        "  def __init__(self, phrase):\n",
        "    self.phrase = phrase\n",
        "    PhraseTrigger.__init__(self, phrase)\n",
        "  def evaluate(self, story):\n",
        "    return self.is_phrase_in(self, story.get_title())"
      ],
      "execution_count": null,
      "outputs": []
    },
    {
      "cell_type": "code",
      "metadata": {
        "id": "NfaX5GTqHNYh"
      },
      "source": [
        "class DescriptionTrigger(PhraseTrigger):\n",
        "  def __init__(self, phrase):\n",
        "    PhraseTrigger.__init__(self, phrase)\n",
        "  def evaluate(self, story):\n",
        "    return self.is_phrase_in(self, story.get_description())"
      ],
      "execution_count": null,
      "outputs": []
    },
    {
      "cell_type": "code",
      "metadata": {
        "id": "CWGkB6jNHmuW"
      },
      "source": [
        "class TimeTrigger(Trigger):\n",
        "  def __init__(self, time):\n",
        "    self.time = datetime.strptime(time, \"%d %b %Y %H:%M:%S\").replace(tzinfo = pytz.timezone(\"EST\"))"
      ],
      "execution_count": null,
      "outputs": []
    },
    {
      "cell_type": "code",
      "metadata": {
        "id": "GyyMIJ93JJOe"
      },
      "source": [
        "class BeforeTrigger(TimeTrigger):\n",
        "  def __init__(self, time):\n",
        "    TimeTrigger.__init__(self, time)\n",
        "  def evaluate(self, story):\n",
        "    story_time = story.get()\n",
        "    if story_time.tzinfo == None:\n",
        "      story_time = story_time.replace(tzinfo = pytz.timezone(\"EST\"))\n",
        "    else:\n",
        "      story_time = story_time.astimezone(tzinfo = pytz.timezone('EST'))\n",
        "    return story_time < self.time"
      ],
      "execution_count": null,
      "outputs": []
    },
    {
      "cell_type": "code",
      "metadata": {
        "id": "lSTp1AzvK6Tm"
      },
      "source": [
        "class AfterTrigger(TimeTrigger):\n",
        "  def __init__(self, time):\n",
        "    TimeTrigger.__init__(self, time)\n",
        "  def evaluate(self, story):\n",
        "    story_time = story.get()\n",
        "    if story_time.tzinfo == None:\n",
        "      story_time = story_time.replace(tzinfo = pytz.timezone(\"EST\"))\n",
        "    else:\n",
        "      story_time = story_time.astimezone(tzinfo = pytz.timezone('EST'))\n",
        "    return story_time > self.time"
      ],
      "execution_count": null,
      "outputs": []
    },
    {
      "cell_type": "code",
      "metadata": {
        "id": "JP0AnfrLK_qG"
      },
      "source": [
        "class NotTrigger(Trigger):\n",
        "  def __init__(trigger):\n",
        "    self.trigger = trigger\n",
        "  def evaluate(self, story):\n",
        "    return not self.trigger.evaluate(story)\n",
        "  "
      ],
      "execution_count": null,
      "outputs": []
    },
    {
      "cell_type": "code",
      "metadata": {
        "id": "5lM8rV4WMPl7"
      },
      "source": [
        "class AndTrigger(Trigger):\n",
        "  def __init__(trigger1, trigger2):\n",
        "    self.trigger1 = trigger1\n",
        "    self.trigger2 = trigger2\n",
        "  def evaluate(self, story):\n",
        "    return self.trigger1.evaluate(story) and self.trigger2.evaluate(story)\n"
      ],
      "execution_count": null,
      "outputs": []
    },
    {
      "cell_type": "code",
      "metadata": {
        "id": "Ch9-_BW4MsWo"
      },
      "source": [
        "class OrTrigger(Trigger):\n",
        "  def __init__(trigger1, trigger2):\n",
        "    self.trigger1 = trigger1\n",
        "    self.trigger2 = trigger2\n",
        "  def evaluate(self, story):\n",
        "    return self.trigger1.evaluate(story) or self.trigger2.evaluate(story)\n"
      ],
      "execution_count": null,
      "outputs": []
    },
    {
      "cell_type": "code",
      "metadata": {
        "id": "S1gi6iADM6Fj"
      },
      "source": [
        "def filter_stories(stories, triggerlist):\n",
        "  filtered_stories = []\n",
        "  for trigger in triggerlist:\n",
        "    for story in stories:\n",
        "      if trigger.evaluate(story):\n",
        "        filtered_stories.append(story)\n",
        "  return filtered_stories"
      ],
      "execution_count": null,
      "outputs": []
    },
    {
      "cell_type": "code",
      "metadata": {
        "id": "V-d5VkqbOByo"
      },
      "source": [
        "def read_trigger_config(filename):\n",
        "    \"\"\"\n",
        "    filename: the name of a trigger configuration file\n",
        "\n",
        "    Returns: a list of trigger objects specified by the trigger configuration\n",
        "        file.\n",
        "    \"\"\"\n",
        "    # We give you the code to read in the file and eliminate blank lines and\n",
        "    # comments. You don't need to know how it works for now!\n",
        "    trigger_file = open(filename, 'r')\n",
        "    lines = []\n",
        "    for line in trigger_file:\n",
        "        line = line.rstrip()\n",
        "        if not (len(line) == 0 or line.startswith('//')):\n",
        "            lines.append(line)\n",
        "\n",
        "    # TODO: Problem 11\n",
        "    # line is the list of lines that you need to parse and for which you need\n",
        "    # to build triggers\n",
        "    triggers_dict = {}\n",
        "    for line in lines[0:-1]:\n",
        "      line = line.split(',')\n",
        "      if line[1] == 'TITLE':\n",
        "        t = TitleTrigger(line[2])\n",
        "      elif line[1] == 'DESCRIPTION':\n",
        "        t = DescriptionTrigger(line[2])\n",
        "      elif line[1] == 'AFTER':\n",
        "        t = AfterTrigger(line[2])\n",
        "      elif line[1] == 'BEFORE':\n",
        "        t = AfterTrigger(line[2])\n",
        "      elif line[1] == 'NOT':\n",
        "        t = NotTrigger(line[2])\n",
        "      elif line[1] == 'AND':\n",
        "        t = AndTrigger(line[2], line[3])\n",
        "      elif line[1] == 'OR':\n",
        "        t = OrTrigger(line[2], line[3])\n",
        "      triggers_dict[line[0]] = t\n",
        "    triggers_list = []\n",
        "    for trigger_key in lines[-1].split(',')[1::]:\n",
        "      triggers_list.append(triggers_dict[trigger_key])\n",
        "    #print(lines) # for now, print it so you see what it contains!\n",
        "    return triggers_list"
      ],
      "execution_count": null,
      "outputs": []
    },
    {
      "cell_type": "code",
      "metadata": {
        "id": "t4HNsFERBZ6p"
      },
      "source": [
        "SLEEPTIME = 120\n",
        "def main_thread(master):\n",
        "    # A sample trigger list - you might need to change the phrases to correspond\n",
        "    # to what is currently in the news\n",
        "    try:\n",
        "        t1 = TitleTrigger(\"covid\")\n",
        "        t2 = DescriptionTrigger(\"Biden\")\n",
        "        t3 = DescriptionTrigger(\"China\")\n",
        "        t4 = AndTrigger(t2, t3)\n",
        "        triggerlist = [t1, t4]\n",
        "\n",
        "        # Problem 11\n",
        "        # TODO: After implementing read_trigger_config, uncomment this line \n",
        "        triggerlist = read_trigger_config('triggers.txt')\n",
        "        \n",
        "        # HELPER CODE - you don't need to understand this!\n",
        "        # Draws the popup window that displays the filtered stories\n",
        "        # Retrieves and filters the stories from the RSS feeds\n",
        "        frame = Frame(master)\n",
        "        frame.pack(side=BOTTOM)\n",
        "        scrollbar = Scrollbar(master)\n",
        "        scrollbar.pack(side=RIGHT,fill=Y)\n",
        "\n",
        "        t = \"Google & Yahoo Top News\"\n",
        "        title = StringVar()\n",
        "        title.set(t)\n",
        "        ttl = Label(master, textvariable=title, font=(\"Helvetica\", 18))\n",
        "        ttl.pack(side=TOP)\n",
        "        cont = Text(master, font=(\"Helvetica\",14), yscrollcommand=scrollbar.set)\n",
        "        cont.pack(side=BOTTOM)\n",
        "        cont.tag_config(\"title\", justify='center')\n",
        "        button = Button(frame, text=\"Exit\", command=root.destroy)\n",
        "        button.pack(side=BOTTOM)\n",
        "        guidShown = []\n",
        "        def get_cont(newstory):\n",
        "            if newstory.get_guid() not in guidShown:\n",
        "                cont.insert(END, newstory.get_title()+\"\\n\", \"title\")\n",
        "                cont.insert(END, \"\\n---------------------------------------------------------------\\n\", \"title\")\n",
        "                cont.insert(END, newstory.get_description())\n",
        "                cont.insert(END, \"\\n*********************************************************************\\n\", \"title\")\n",
        "                guidShown.append(newstory.get_guid())\n",
        "\n",
        "        while True:\n",
        "\n",
        "            print(\"Polling . . .\", end=' ')\n",
        "            # Get stories from Google's Top Stories RSS news feed\n",
        "            stories = process(\"http://news.google.com/news?output=rss\")\n",
        "\n",
        "            # Get stories from Yahoo's Top Stories RSS news feed\n",
        "            stories.extend(process(\"http://news.yahoo.com/rss/topstories\"))\n",
        "\n",
        "            stories = filter_stories(stories, triggerlist)\n",
        "\n",
        "            list(map(get_cont, stories))\n",
        "            scrollbar.config(command=cont.yview)\n",
        "\n",
        "\n",
        "            print(\"Sleeping...\")\n",
        "            time.sleep(SLEEPTIME)\n",
        "\n",
        "    except Exception as e:\n",
        "        print(e)"
      ],
      "execution_count": null,
      "outputs": []
    }
  ]
}
