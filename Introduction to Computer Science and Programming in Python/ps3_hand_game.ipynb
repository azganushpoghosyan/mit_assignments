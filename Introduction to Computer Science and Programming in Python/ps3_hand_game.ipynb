{
  "nbformat": 4,
  "nbformat_minor": 0,
  "metadata": {
    "colab": {
      "name": "ps3_hand_game.ipynb",
      "provenance": [],
      "collapsed_sections": [],
      "authorship_tag": "ABX9TyPrp+Ri9bQnWZIUxIOghc+P",
      "include_colab_link": true
    },
    "kernelspec": {
      "name": "python3",
      "display_name": "Python 3"
    },
    "language_info": {
      "name": "python"
    }
  },
  "cells": [
    {
      "cell_type": "markdown",
      "metadata": {
        "id": "view-in-github",
        "colab_type": "text"
      },
      "source": [
        "<a href=\"https://colab.research.google.com/github/azganushpoghosyan/mit_assignments/blob/main/ps3_hand_game.ipynb\" target=\"_parent\"><img src=\"https://colab.research.google.com/assets/colab-badge.svg\" alt=\"Open In Colab\"/></a>"
      ]
    },
    {
      "cell_type": "code",
      "metadata": {
        "id": "41nkcd-bLGJX"
      },
      "source": [
        "import math\n",
        "import random\n",
        "import string"
      ],
      "execution_count": null,
      "outputs": []
    },
    {
      "cell_type": "code",
      "metadata": {
        "id": "yPJYAv9YMyt6"
      },
      "source": [
        "VOWELS = 'aeiou'\n",
        "CONSONANTS = 'bcdfghjklmnpqrstvwxyz'\n",
        "HAND_SIZE = 7"
      ],
      "execution_count": null,
      "outputs": []
    },
    {
      "cell_type": "code",
      "metadata": {
        "id": "4sAw8SlbM1sT"
      },
      "source": [
        "SCRABBLE_LETTER_VALUES = {\n",
        "    'a': 1, 'b': 3, 'c': 3, 'd': 2, 'e': 1, 'f': 4, 'g': 2, 'h': 4, 'i': 1, 'j': 8, 'k': 5, 'l': 1, 'm': 3, 'n': 1, 'o': 1, 'p': 3, 'q': 10, 'r': 1, 's': 1, 't': 1, 'u': 1, 'v': 4, 'w': 4, 'x': 8, 'y': 4, 'z': 10\n",
        "}"
      ],
      "execution_count": null,
      "outputs": []
    },
    {
      "cell_type": "code",
      "metadata": {
        "id": "Lg2XPcu6M4U8"
      },
      "source": [
        "WORDLIST_FILENAME = \"words.txt\""
      ],
      "execution_count": null,
      "outputs": []
    },
    {
      "cell_type": "markdown",
      "metadata": {
        "id": "3DyrtLVVFXi0"
      },
      "source": [
        "###Helping Functions"
      ]
    },
    {
      "cell_type": "code",
      "metadata": {
        "id": "y0Qvd2j2f509"
      },
      "source": [
        "def load_words():\n",
        "    \"\"\"\n",
        "    Returns a list of valid words. Words are strings of lowercase letters.\n",
        "    \n",
        "    Depending on the size of the word list, this function may\n",
        "    take a while to finish.\n",
        "    \"\"\"\n",
        "    print(\"Loading word list from file...\")\n",
        "    # inFile: file\n",
        "    inFile = open(WORDLIST_FILENAME, 'r')\n",
        "    # line: string\n",
        "    line = inFile.read()\n",
        "    # wordlist: list of strings\n",
        "    wordlist = line.split()\n",
        "    print(\"  \", len(wordlist), \"words loaded.\")\n",
        "    return wordlist\n"
      ],
      "execution_count": null,
      "outputs": []
    },
    {
      "cell_type": "code",
      "metadata": {
        "colab": {
          "base_uri": "https://localhost:8080/"
        },
        "id": "_vo25QYVe7TQ",
        "outputId": "98c26dea-7b41-4519-9985-2837878f4a5f"
      },
      "source": [
        "wordlist = [x.lower() for x in load_words()]"
      ],
      "execution_count": null,
      "outputs": [
        {
          "output_type": "stream",
          "name": "stdout",
          "text": [
            "Loading word list from file...\n",
            "   83667 words loaded.\n"
          ]
        }
      ]
    },
    {
      "cell_type": "code",
      "metadata": {
        "colab": {
          "base_uri": "https://localhost:8080/"
        },
        "id": "hbWqMw79O4N8",
        "outputId": "508108f3-440f-488b-cc61-d535b3a338a4"
      },
      "source": [
        "! python ps3.py"
      ],
      "execution_count": null,
      "outputs": [
        {
          "output_type": "stream",
          "name": "stdout",
          "text": [
            "Loading word list from file...\n",
            "   83667 words loaded.\n",
            "play_game not implemented.\n"
          ]
        }
      ]
    },
    {
      "cell_type": "code",
      "metadata": {
        "id": "cVFWS5jvisRD"
      },
      "source": [
        "def get_frequency_dict(sequence):\n",
        "    \"\"\"\n",
        "    Returns a dictionary where the keys are elements of the sequence\n",
        "    and the values are integer counts, for the number of times that\n",
        "    an element is repeated in the sequence.\n",
        "\n",
        "    sequence: string or list\n",
        "    return: dictionary\n",
        "    \"\"\"\n",
        "    \n",
        "    # freqs: dictionary (element_type -> int)\n",
        "    freq = {}\n",
        "    for x in sequence:\n",
        "        freq[x] = freq.get(x,0) + 1\n",
        "    return freq\n",
        "\t"
      ],
      "execution_count": null,
      "outputs": []
    },
    {
      "cell_type": "markdown",
      "metadata": {
        "id": "tR-N7yy9OY_Y"
      },
      "source": [
        "###Problem 1"
      ]
    },
    {
      "cell_type": "code",
      "metadata": {
        "id": "56XpT7wDOQwk"
      },
      "source": [
        "def get_word_score(word, n):\n",
        "    \"\"\"\n",
        "    Returns the score for a word. Assumes the word is a\n",
        "    valid word.\n",
        "\n",
        "    You may assume that the input word is always either a string of letters, \n",
        "    or the empty string \"\". You may not assume that the string will only contain \n",
        "    lowercase letters, so you will have to handle uppercase and mixed case strings \n",
        "    appropriately. \n",
        "\n",
        "\tThe score for a word is the product of two components:\n",
        "\n",
        "\tThe first component is the sum of the points for letters in the word.\n",
        "\tThe second component is the larger of:\n",
        "            1, or\n",
        "            7*wordlen - 3*(n-wordlen), where wordlen is the length of the word\n",
        "            and n is the hand length when the word was played\n",
        "\n",
        "\tLetters are scored as in Scrabble; A is worth 1, B is\n",
        "\tworth 3, C is worth 3, D is worth 2, E is worth 1, and so on.\n",
        "\n",
        "    word: string\n",
        "    n: int >= 0\n",
        "    returns: int >= 0\n",
        "    \"\"\"\n",
        "    word_lower = word.lower()\n",
        "    first_component = 0\n",
        "    for i in word_lower:\n",
        "      if i == '*':\n",
        "        first_component = first_component\n",
        "      else:\n",
        "        first_component = first_component + SCRABBLE_LETTER_VALUES[i]\n",
        "    if (7 * len(word_lower)) - (3 * (n - len(word_lower))) > 1:\n",
        "      second_component = 7 * len(word_lower) - 3 * (n - len(word_lower))\n",
        "    else:\n",
        "      second_component = 1\n",
        "    score = first_component * second_component\n",
        "    return score"
      ],
      "execution_count": null,
      "outputs": []
    },
    {
      "cell_type": "markdown",
      "metadata": {
        "id": "LsO_0NXsFoVT"
      },
      "source": [
        "###Test Problem 1"
      ]
    },
    {
      "cell_type": "code",
      "metadata": {
        "id": "21MCe3a3SPFK"
      },
      "source": [
        "def test_get_word_score():\n",
        "    \"\"\"\n",
        "    Unit test for get_word_score\n",
        "    \"\"\"\n",
        "    failure=False\n",
        "    # dictionary of words and scores\n",
        "    words = {(\"\", 7):0, (\"it\", 7):2, (\"was\", 7):54, (\"weed\", 6):176,\n",
        "             (\"scored\", 7):351, (\"WaYbILl\", 7):735, (\"Outgnaw\", 7):539,\n",
        "             (\"fork\", 7):209, (\"FORK\", 4):308}\n",
        "    for (word, n) in words.keys():\n",
        "        score = get_word_score(word, n)\n",
        "        if score != words[(word, n)]:\n",
        "            print(\"FAILURE: test_get_word_score()\")\n",
        "            print(\"\\tExpected\", words[(word, n)], \"points but got '\" + \\\n",
        "                  str(score) + \"' for word '\" + word + \"', n=\" + str(n))\n",
        "            failure=True\n",
        "    if not failure:\n",
        "        print(\"SUCCESS: test_get_word_score()\")"
      ],
      "execution_count": null,
      "outputs": []
    },
    {
      "cell_type": "code",
      "metadata": {
        "colab": {
          "base_uri": "https://localhost:8080/"
        },
        "id": "qNh8n-jxDkmH",
        "outputId": "5c5cc353-023f-459e-9c11-b66488eb36ae"
      },
      "source": [
        "test_get_word_score()"
      ],
      "execution_count": null,
      "outputs": [
        {
          "output_type": "stream",
          "name": "stdout",
          "text": [
            "SUCCESS: test_get_word_score()\n"
          ]
        }
      ]
    },
    {
      "cell_type": "markdown",
      "metadata": {
        "id": "s8JcQqwIST2u"
      },
      "source": [
        "###Problem 2"
      ]
    },
    {
      "cell_type": "code",
      "metadata": {
        "id": "OVpHE5sDFQO_"
      },
      "source": [
        "def update_hand(hand, word):\n",
        "    \"\"\"\n",
        "    Does NOT assume that hand contains every letter in word at least as\n",
        "    many times as the letter appears in word. Letters in word that don't\n",
        "    appear in hand should be ignored. Letters that appear in word more times\n",
        "    than in hand should never result in a negative count; instead, set the\n",
        "    count in the returned hand to 0 (or remove the letter from the\n",
        "    dictionary, depending on how your code is structured). \n",
        "\n",
        "    Updates the hand: uses up the letters in the given word\n",
        "    and returns the new hand, without those letters in it.\n",
        "\n",
        "    Has no side effects: does not modify hand.\n",
        "\n",
        "    word: string\n",
        "    hand: dictionary (string -> int)    \n",
        "    returns: dictionary (string -> int)\n",
        "    \"\"\"\n",
        "\n",
        "    new_hand = hand.copy()\n",
        "    word_lower = word.lower()\n",
        "    for i in word_lower:\n",
        "      if i in new_hand.keys():\n",
        "        new_hand[i] = new_hand.get(i, 0) - 1\n",
        "      \n",
        "    return new_hand"
      ],
      "execution_count": null,
      "outputs": []
    },
    {
      "cell_type": "markdown",
      "metadata": {
        "id": "isvu0cZbFrA1"
      },
      "source": [
        "###Test Problem 2"
      ]
    },
    {
      "cell_type": "code",
      "metadata": {
        "id": "b3pfC9wWUTvu"
      },
      "source": [
        "def test_update_hand():\n",
        "    \"\"\"\n",
        "    Unit test for update_hand\n",
        "    \"\"\"\n",
        "    # test 1\n",
        "    handOrig = {'a':1, 'q':1, 'l':2, 'm':1, 'u':1, 'i':1}\n",
        "    handCopy = handOrig.copy()\n",
        "    word = \"quail\"\n",
        "\n",
        "    hand2 = update_hand(handCopy, word)\n",
        "    expected_hand1 = {'l':1, 'm':1}\n",
        "    expected_hand2 = {'a':0, 'q':0, 'l':1, 'm':1, 'u':0, 'i':0}\n",
        "    if hand2 != expected_hand1 and hand2 != expected_hand2:\n",
        "        print(\"FAILURE: test_update_hand('\"+ word +\"', \" + str(handOrig) + \")\")\n",
        "        print(\"\\tReturned: \", hand2, \"\\n\\t-- but expected:\", expected_hand1, \"or\", expected_hand2)\n",
        "\n",
        "        return # exit function\n",
        "    if handCopy != handOrig:\n",
        "        print(\"FAILURE: test_update_hand('\"+ word +\"', \" + str(handOrig) + \")\")\n",
        "        print(\"\\tOriginal hand was\", handOrig)\n",
        "        print(\"\\tbut implementation of update_hand mutated the original hand!\")\n",
        "        print(\"\\tNow the hand looks like this:\", handCopy)\n",
        "        \n",
        "        return # exit function\n",
        "        \n",
        "    # test 2\n",
        "    handOrig = {'e':1, 'v':2, 'n':1, 'i':1, 'l':2}\n",
        "    handCopy = handOrig.copy()\n",
        "    word = \"Evil\"\n",
        "\n",
        "    hand2 = update_hand(handCopy, word)\n",
        "    expected_hand1 = {'v':1, 'n':1, 'l':1}\n",
        "    expected_hand2 = {'e':0, 'v':1, 'n':1, 'i':0, 'l':1}\n",
        "    if hand2 != expected_hand1 and hand2 != expected_hand2:\n",
        "        print(\"FAILURE: test_update_hand('\"+ word +\"', \" + str(handOrig) + \")\")        \n",
        "        print(\"\\tReturned: \", hand2, \"\\n\\t-- but expected:\", expected_hand1, \"or\", expected_hand2)\n",
        "\n",
        "        return # exit function\n",
        "\n",
        "    if handCopy != handOrig:\n",
        "        print(\"FAILURE: test_update_hand('\"+ word +\"', \" + str(handOrig) + \")\")\n",
        "        print(\"\\tOriginal hand was\", handOrig)\n",
        "        print(\"\\tbut implementation of update_hand mutated the original hand!\")\n",
        "        print(\"\\tNow the hand looks like this:\", handCopy)\n",
        "        \n",
        "        return # exit function\n",
        "\n",
        "    # test 3\n",
        "    handOrig = {'h': 1, 'e': 1, 'l': 2, 'o': 1}\n",
        "    handCopy = handOrig.copy()\n",
        "    word = \"HELLO\"\n",
        "\n",
        "    hand2 = update_hand(handCopy, word)\n",
        "    expected_hand1 = {}\n",
        "    expected_hand2 = {'h': 0, 'e': 0, 'l': 0, 'o': 0}\n",
        "    if hand2 != expected_hand1 and hand2 != expected_hand2:\n",
        "        print(\"FAILURE: test_update_hand('\"+ word +\"', \" + str(handOrig) + \")\")                \n",
        "        print(\"\\tReturned: \", hand2, \"\\n\\t-- but expected:\", expected_hand1, \"or\", expected_hand2)\n",
        "        \n",
        "        return # exit function\n",
        "\n",
        "    if handCopy != handOrig:\n",
        "        print(\"FAILURE: test_update_hand('\"+ word +\"', \" + str(handOrig) + \")\")\n",
        "        print(\"\\tOriginal hand was\", handOrig)\n",
        "        print(\"\\tbut implementation of update_hand mutated the original hand!\")\n",
        "        print(\"\\tNow the hand looks like this:\", handCopy)\n",
        "        \n",
        "        return # exit function\n",
        "\n",
        "    print(\"SUCCESS: test_update_hand()\")"
      ],
      "execution_count": null,
      "outputs": []
    },
    {
      "cell_type": "code",
      "metadata": {
        "colab": {
          "base_uri": "https://localhost:8080/"
        },
        "id": "BBJZt1ORUU71",
        "outputId": "8b627054-82fb-4ecc-a997-8c195a9508e6"
      },
      "source": [
        "test_update_hand()"
      ],
      "execution_count": null,
      "outputs": [
        {
          "output_type": "stream",
          "name": "stdout",
          "text": [
            "SUCCESS: test_update_hand()\n"
          ]
        }
      ]
    },
    {
      "cell_type": "markdown",
      "metadata": {
        "id": "QqlEOVz5U5xa"
      },
      "source": [
        "###Problem 3"
      ]
    },
    {
      "cell_type": "code",
      "metadata": {
        "id": "3wy2v6dfVDeL"
      },
      "source": [
        "def is_valid_word(word, hand, wordlist):\n",
        "    \"\"\"\n",
        "    Returns True if word is in the wordlist and is entirely\n",
        "    composed of letters in the hand. Otherwise, returns False.\n",
        "    Does not mutate hand or wordlist.\n",
        "   \n",
        "    word: string\n",
        "    hand: dictionary (string -> int)\n",
        "    wordlist: list of lowercase strings\n",
        "    returns: boolean\n",
        "    \"\"\"\n",
        "    new_hand = hand.copy()\n",
        "    word_lower = word.lower()\n",
        "    checklist = []\n",
        "\n",
        "    if word_lower not in wordlist:\n",
        "      return False\n",
        "    else:\n",
        "      for i in word_lower:\n",
        "        if i in new_hand.keys() and new_hand[i] > 0:\n",
        "          new_hand = update_hand(new_hand, i)\n",
        "          checklist.append('true')\n",
        "        else:\n",
        "          checklist.append('false')\n",
        "      if len(set(checklist)) == 1 and checklist[0] == 'true':\n",
        "        return True\n",
        "      else: \n",
        "        return False \n",
        "      \n",
        "   "
      ],
      "execution_count": null,
      "outputs": []
    },
    {
      "cell_type": "markdown",
      "metadata": {
        "id": "CBPtzgISFtXG"
      },
      "source": [
        "###Test Problem 3"
      ]
    },
    {
      "cell_type": "code",
      "metadata": {
        "id": "geD_tFjTUmkD"
      },
      "source": [
        "def test_is_valid_word(word_list):\n",
        "    \"\"\"\n",
        "    Unit test for is_valid_word\n",
        "    \"\"\"\n",
        "    failure=False\n",
        "    # test 1\n",
        "    word = \"hello\"\n",
        "    handOrig = get_frequency_dict(word)\n",
        "    handCopy = handOrig.copy()\n",
        "\n",
        "    if not is_valid_word(word, handCopy, word_list):\n",
        "        print(\"FAILURE: test_is_valid_word()\")\n",
        "        print(\"\\tExpected True, but got False for word: '\" + word + \"' and hand:\", handOrig)\n",
        "\n",
        "        failure = True\n",
        "\n",
        "    # Test a second time to see if word_list or hand has been modified\n",
        "    if not is_valid_word(word, handCopy, word_list):\n",
        "        print(\"FAILURE: test_is_valid_word()\")\n",
        "\n",
        "        if handCopy != handOrig:\n",
        "            print(\"\\tTesting word\", word, \"for a second time - be sure you're not modifying hand.\")\n",
        "            print(\"\\tAt this point, hand ought to be\", handOrig, \"but it is\", handCopy)\n",
        "\n",
        "        else:\n",
        "            print(\"\\tTesting word\", word, \"for a second time - have you modified word_list?\")\n",
        "            wordInWL = word in word_list\n",
        "            print(\"The word\", word, \"should be in word_list - is it?\", wordInWL)\n",
        "\n",
        "        print(\"\\tExpected True, but got False for word: '\" + word + \"' and hand:\", handCopy)\n",
        "\n",
        "        failure = True\n",
        "\n",
        "\n",
        "    # test 2\n",
        "    hand = {'r': 1, 'a': 3, 'p': 2, 'e': 1, 't': 1, 'u':1}\n",
        "    word = \"Rapture\"\n",
        "\n",
        "    if  is_valid_word(word, hand, word_list):\n",
        "        print(\"FAILURE: test_is_valid_word()\")\n",
        "        print(\"\\tExpected False, but got True for word: '\" + word + \"' and hand:\", hand)\n",
        "\n",
        "        failure = True        \n",
        "\n",
        "    # test 3\n",
        "    hand = {'n': 1, 'h': 1, 'o': 1, 'y': 1, 'd':1, 'w':1, 'e': 2}\n",
        "    word = \"honey\"\n",
        "\n",
        "    if  not is_valid_word(word, hand, word_list):\n",
        "        print(\"FAILURE: test_is_valid_word()\")\n",
        "        print(\"\\tExpected True, but got False for word: '\"+ word +\"' and hand:\", hand)\n",
        "\n",
        "        failure = True                        \n",
        "\n",
        "    # test 4\n",
        "    hand = {'r': 1, 'a': 3, 'p': 2, 't': 1, 'u':2}\n",
        "    word = \"honey\"\n",
        "\n",
        "    if  is_valid_word(word, hand, word_list):\n",
        "        print(\"FAILURE: test_is_valid_word()\")\n",
        "        print(\"\\tExpected False, but got True for word: '\" + word + \"' and hand:\", hand)\n",
        "        \n",
        "        failure = True\n",
        "\n",
        "    # test 5\n",
        "    hand = {'e':1, 'v':2, 'n':1, 'i':1, 'l':2}\n",
        "    word = \"EVIL\"\n",
        "    \n",
        "    if  not is_valid_word(word, hand, word_list):\n",
        "        print(\"FAILURE: test_is_valid_word()\")\n",
        "        print(\"\\tExpected True, but got False for word: '\" + word + \"' and hand:\", hand)\n",
        "        \n",
        "        failure = True\n",
        "        \n",
        "    # test 6\n",
        "    word = \"Even\"\n",
        "\n",
        "    if  is_valid_word(word, hand, word_list):\n",
        "        print(\"FAILURE: test_is_valid_word()\")\n",
        "        print(\"\\tExpected False, but got True for word: '\" + word + \"' and hand:\", hand)\n",
        "        print(\"\\t(If this is the only failure, make sure is_valid_word() isn't mutating its inputs)\")        \n",
        "        \n",
        "        failure = True        \n",
        "\n",
        "    if not failure:\n",
        "        print(\"SUCCESS: test_is_valid_word()\")"
      ],
      "execution_count": null,
      "outputs": []
    },
    {
      "cell_type": "code",
      "metadata": {
        "colab": {
          "base_uri": "https://localhost:8080/"
        },
        "id": "z7pbBn_wd6GX",
        "outputId": "b322981d-2110-4023-9009-a9aaea858519"
      },
      "source": [
        "test_is_valid_word(wordlist)"
      ],
      "execution_count": null,
      "outputs": [
        {
          "output_type": "stream",
          "name": "stdout",
          "text": [
            "SUCCESS: test_is_valid_word()\n"
          ]
        }
      ]
    },
    {
      "cell_type": "markdown",
      "metadata": {
        "id": "4nG9lzV4YEZT"
      },
      "source": [
        "###Problem 4"
      ]
    },
    {
      "cell_type": "code",
      "metadata": {
        "id": "prIfB2eQX-GG"
      },
      "source": [
        "def deal_hand(n):\n",
        "    \"\"\"\n",
        "    Returns a random hand containing n lowercase letters.\n",
        "    ceil(n/3) letters in the hand should be VOWELS (note,\n",
        "    ceil(n/3) means the smallest integer not less than n/3).\n",
        "\n",
        "    Hands are represented as dictionaries. The keys are\n",
        "    letters and the values are the number of times the\n",
        "    particular letter is repeated in that hand.\n",
        "\n",
        "    n: int >= 0\n",
        "    returns: dictionary (string -> int)\n",
        "    \"\"\"\n",
        "    \n",
        "    hand={}\n",
        "    num_vowels = int(math.ceil(n / 3))\n",
        "\n",
        "    for i in range(num_vowels - 1):\n",
        "        x = random.choice(VOWELS)\n",
        "        hand[x] = hand.get(x, 0) + 1\n",
        "        hand['*'] = 1\n",
        "    \n",
        "    for i in range(num_vowels, n):    \n",
        "        x = random.choice(CONSONANTS)\n",
        "        hand[x] = hand.get(x, 0) + 1\n",
        "    \n",
        "    return hand\n"
      ],
      "execution_count": null,
      "outputs": []
    },
    {
      "cell_type": "code",
      "metadata": {
        "id": "hzQkkGQub2BQ"
      },
      "source": [
        "def is_valid_word(word, hand, wordlist):\n",
        "    \"\"\"\n",
        "    Returns True if word is in the word_list and is entirely\n",
        "    composed of letters in the hand. Otherwise, returns False.\n",
        "    Does not mutate hand or word_list.\n",
        "   \n",
        "    word: string\n",
        "    hand: dictionary (string -> int)\n",
        "    word_list: list of lowercase strings\n",
        "    returns: boolean\n",
        "    \"\"\"\n",
        "    new_hand = hand.copy()\n",
        "    checklist = []\n",
        "    word_lower = word.lower()\n",
        "\n",
        "    if '*' in word_lower:\n",
        "      possible_words = []\n",
        "      for i in VOWELS:\n",
        "        possible_words.append(word_lower.replace('*', i))\n",
        "      real_words = []\n",
        "      for any_word in possible_words:\n",
        "        if any_word in wordlist:\n",
        "          real_words.append(any_word)\n",
        "      if len(real_words) == 0:\n",
        "        return False \n",
        "      else: \n",
        "        for i in word_lower:\n",
        "          if i in new_hand.keys() and new_hand[i] > 0: \n",
        "            new_hand = update_hand(new_hand, i)\n",
        "            checklist.append('true')\n",
        "          else:\n",
        "            checklist.append('false')\n",
        "        if len(set(checklist)) == 1 and checklist[0] == 'true':\n",
        "          return True\n",
        "        else: \n",
        "          return False \n",
        "    else:\n",
        "      if word_lower not in wordlist:\n",
        "        return False\n",
        "      else:\n",
        "        for i in word_lower:\n",
        "          if i in new_hand.keys() and new_hand[i] > 0:\n",
        "            new_hand = update_hand(new_hand, i)\n",
        "            checklist.append('true')\n",
        "          else:\n",
        "            checklist.append('false')\n",
        "        if len(set(checklist)) == 1 and checklist[0] == 'true':\n",
        "          return True\n",
        "        else: \n",
        "          return False \n"
      ],
      "execution_count": null,
      "outputs": []
    },
    {
      "cell_type": "markdown",
      "metadata": {
        "id": "Pn882n0bFzpt"
      },
      "source": [
        "###Test Problem 4"
      ]
    },
    {
      "cell_type": "code",
      "metadata": {
        "id": "Rn3ojtGEjN4-"
      },
      "source": [
        "def test_wildcard(word_list):\n",
        "    \"\"\"\n",
        "    Unit test for is_valid_word\n",
        "    \"\"\"\n",
        "    failure=False\n",
        "\n",
        "    # test 1\n",
        "    hand = {'a': 1, 'r': 1, 'e': 1, 'j': 2, 'm': 1, '*': 1}\n",
        "    word = \"e*m\"\n",
        "\n",
        "    if is_valid_word(word, hand, word_list):\n",
        "        print(\"FAILURE: test_is_valid_word() with wildcards\")\n",
        "        print(\"\\tExpected False, but got True for word: '\" + word + \"' and hand:\", hand)\n",
        "\n",
        "        failure = True\n",
        "\n",
        "    # test 2\n",
        "    hand = {'n': 1, 'h': 1, '*': 1, 'y': 1, 'd':1, 'w':1, 'e': 2}\n",
        "    word = \"honey\"\n",
        "\n",
        "    if is_valid_word(word, hand, word_list):\n",
        "        print(\"FAILURE: test_is_valid_word() with wildcards\")\n",
        "        print(\"\\tExpected False, but got True for word: '\"+ word +\"' and hand:\", hand)\n",
        "\n",
        "        failure = True\n",
        "\n",
        "    # test 3\n",
        "    hand = {'n': 1, 'h': 1, '*': 1, 'y': 1, 'd':1, 'w':1, 'e': 2}\n",
        "    word = \"h*ney\"\n",
        "\n",
        "    if not is_valid_word(word, hand, word_list):\n",
        "        print(\"FAILURE: test_is_valid_word() with wildcards\")\n",
        "        print(\"\\tExpected True, but got False for word: '\"+ word +\"' and hand:\", hand)\n",
        "\n",
        "        failure = True\n",
        "\n",
        "    # test 4\n",
        "    hand = {'c': 1, 'o': 1, '*': 1, 'w': 1, 's':1, 'z':1, 'y': 2}\n",
        "    word = \"c*wz\"\n",
        "\n",
        "    if is_valid_word(word, hand, word_list):\n",
        "        print(\"FAILURE: test_is_valid_word() with wildcards\")\n",
        "        print(\"\\tExpected False, but got True for word: '\"+ word +\"' and hand:\", hand)\n",
        "\n",
        "        failure = True    \n",
        "\n",
        "    # dictionary of words and scores WITH wildcards\n",
        "    words = {(\"h*ney\", 7):290, (\"c*ws\", 6):176, (\"wa*ls\", 7):203}\n",
        "    for (word, n) in words.keys():\n",
        "        score = get_word_score(word, n)\n",
        "        if score != words[(word, n)]:\n",
        "            print(\"FAILURE: test_get_word_score() with wildcards\")\n",
        "            print(\"\\tExpected\", words[(word, n)], \"points but got '\" + \\\n",
        "                  str(score) + \"' for word '\" + word + \"', n=\" + str(n))\n",
        "            failure=True      \n",
        "\n",
        "    if not failure:\n",
        "        print(\"SUCCESS: test_wildcard()\")"
      ],
      "execution_count": null,
      "outputs": []
    },
    {
      "cell_type": "code",
      "metadata": {
        "colab": {
          "base_uri": "https://localhost:8080/"
        },
        "id": "vPbyBZ84h4mT",
        "outputId": "82cb3c04-70ba-49ce-c505-17d76cae044c"
      },
      "source": [
        "is_valid_word(word = 'h*ney', hand = {'n': 1, 'h': 1, '*': 1, 'y': 1, 'd': 1, 'w': 1, 'e': 2}, wordlist = wordlist)"
      ],
      "execution_count": null,
      "outputs": [
        {
          "output_type": "execute_result",
          "data": {
            "text/plain": [
              "True"
            ]
          },
          "metadata": {},
          "execution_count": 24
        }
      ]
    },
    {
      "cell_type": "code",
      "metadata": {
        "colab": {
          "base_uri": "https://localhost:8080/"
        },
        "id": "e2-eCxPXBAqi",
        "outputId": "10536e14-6173-4629-fcd3-998452299137"
      },
      "source": [
        "test_wildcard(wordlist)"
      ],
      "execution_count": null,
      "outputs": [
        {
          "output_type": "stream",
          "name": "stdout",
          "text": [
            "SUCCESS: test_wildcard()\n"
          ]
        }
      ]
    },
    {
      "cell_type": "markdown",
      "metadata": {
        "id": "bnfeM28c0egM"
      },
      "source": [
        "###Problem 5"
      ]
    },
    {
      "cell_type": "code",
      "metadata": {
        "id": "Kvs3YSrZBb36"
      },
      "source": [
        "def calculate_handlen(hand):\n",
        "    \"\"\" \n",
        "    Returns the length (number of letters) in the current hand.\n",
        "    \n",
        "    hand: dictionary (string-> int)\n",
        "    returns: integer\n",
        "    \"\"\"\n",
        "    hand_values = list(hand.values())\n",
        "    return sum(hand_values)"
      ],
      "execution_count": null,
      "outputs": []
    },
    {
      "cell_type": "markdown",
      "metadata": {
        "id": "JF-e8ZQ8fJhM"
      },
      "source": [
        "###Problem 6"
      ]
    },
    {
      "cell_type": "code",
      "metadata": {
        "id": "MWpnSkzSWkYM"
      },
      "source": [
        "def substitute_hand(hand, letter):\n",
        "    \"\"\" \n",
        "    Allow the user to replace all copies of one letter in the hand (chosen by user)\n",
        "    with a new letter chosen from the VOWELS and CONSONANTS at random. The new letter\n",
        "    should be different from user's choice, and should not be any of the letters\n",
        "    already in the hand.\n",
        "\n",
        "    If user provide a letter not in the hand, the hand should be the same.\n",
        "\n",
        "    Has no side effects: does not mutate hand.\n",
        "\n",
        "    For example:\n",
        "        substitute_hand({'h':1, 'e':1, 'l':2, 'o':1}, 'l')\n",
        "    might return:\n",
        "        {'h':1, 'e':1, 'o':1, 'x':2} -> if the new letter is 'x'\n",
        "    The new letter should not be 'h', 'e', 'l', or 'o' since those letters were\n",
        "    already in the hand.\n",
        "    \n",
        "    hand: dictionary (string -> int)\n",
        "    letter: string\n",
        "    returns: dictionary (string -> int)\n",
        "    \"\"\"\n",
        "    letter_low = letter.lower()\n",
        "    sub_hand = hand.copy()\n",
        "    if letter_low not in hand.keys():\n",
        "      return sub_hand\n",
        "    else:\n",
        "      val = sub_hand[letter_low]\n",
        "      del sub_hand[letter_low]\n",
        "      available_letters = (VOWELS + CONSONANTS).replace(letter_low, '')\n",
        "      for char in ' '.join(list(hand.keys())):\n",
        "        available_letters = available_letters.replace(char, '')\n",
        "      random_letter = random.choice(available_letters)\n",
        "      sub_hand[random_letter] = val\n",
        "      return sub_hand\n"
      ],
      "execution_count": null,
      "outputs": []
    },
    {
      "cell_type": "code",
      "metadata": {
        "colab": {
          "base_uri": "https://localhost:8080/"
        },
        "id": "rA9_CbhxhvAC",
        "outputId": "82114f25-8fa4-499b-f715-ee9c4749b4e7"
      },
      "source": [
        "substitute_hand({'h':1, 'e':1, 'l':2, 'o':1}, 'l')"
      ],
      "execution_count": null,
      "outputs": [
        {
          "output_type": "execute_result",
          "data": {
            "text/plain": [
              "{'e': 1, 'h': 1, 'm': 2, 'o': 1}"
            ]
          },
          "metadata": {},
          "execution_count": 103
        }
      ]
    },
    {
      "cell_type": "markdown",
      "metadata": {
        "id": "wR3ZnwGlF6ds"
      },
      "source": [
        "#Final game"
      ]
    },
    {
      "cell_type": "code",
      "metadata": {
        "id": "SOgJE5QTplWU"
      },
      "source": [
        "def play_hand(hand, word_list):\n",
        "\n",
        "    \"\"\"\n",
        "    Allows the user to play the given hand, as follows:\n",
        "\n",
        "    * The hand is displayed.\n",
        "    \n",
        "    * The user may input a word.\n",
        "\n",
        "    * When any word is entered (valid or invalid), it uses up letters\n",
        "      from the hand.\n",
        "\n",
        "    * An invalid word is rejected, and a message is displayed asking\n",
        "      the user to choose another word.\n",
        "\n",
        "    * After every valid word: the score for that word is displayed,\n",
        "      the remaining letters in the hand are displayed, and the user\n",
        "      is asked to input another word.\n",
        "\n",
        "    * The sum of the word scores is displayed when the hand finishes.\n",
        "\n",
        "    * The hand finishes when there are no more unused letters.\n",
        "      The user can also finish playing the hand by inputing two \n",
        "      exclamation points (the string '!!') instead of a word.\n",
        "\n",
        "      hand: dictionary (string -> int)\n",
        "      word_list: list of lowercase strings\n",
        "      returns: the total score for the hand\n",
        "      \n",
        "    \"\"\"\n",
        "    \n",
        "    # BEGIN PSEUDOCODE <-- Remove this comment when you implement this function\n",
        "    # Keep track of the total score\n",
        "    hand_total_score = 0 \n",
        "    print('Current hand is: {}'.format(hand))\n",
        "    sub_question = str(input('Would you like to substitute a letter? Please, enter yes or no: ')).lower()\n",
        "    if sub_question == 'yes':\n",
        "      letter = str(input('Please enter the letter to substitute: ')).lower()\n",
        "      hand = substitute_hand(hand, letter)\n",
        "    else:\n",
        "      pass\n",
        "    while calculate_handlen(hand) > 0:\n",
        "      print('Current hand is: {}'.format(hand))\n",
        "      input_word = str(input('Enter word, or \"!!\" to indicate that you are finished: ')).lower()\n",
        "      if input_word == '!!':\n",
        "        break\n",
        "      else:\n",
        "        if (is_valid_word(input_word, hand, wordlist)) == True:\n",
        "          current_score = get_word_score(input_word, calculate_handlen(hand))\n",
        "          hand_total_score += current_score\n",
        "          hand = update_hand(hand, input_word)\n",
        "          print('{word} earns {current_score}'.format(word = input_word, current_score = current_score))\n",
        "          print('Total score: {} points'.format(hand_total_score))\n",
        "        else:\n",
        "          print('The word is invalid')\n",
        "          print('Total score: {} points'.format(hand_total_score))\n",
        "          hand = update_hand(hand, input_word)\n",
        "    if calculate_handlen(hand) > 0:\n",
        "      print('Total score for this hand is: {} points'.format(hand_total_score))\n",
        "      return hand_total_score\n",
        "    else:\n",
        "      print('Ran out of letters.')\n",
        "      print('Total score for this hand is {}'.format(hand_total_score))\n",
        "      return hand_total_score\n",
        "    \n",
        " \n",
        "    # As long as there are still letters left in the hand:\n",
        "    \n",
        "        # Display the hand\n",
        "        \n",
        "        # Ask user for input\n",
        "         # If the input is two exclamation points:\n",
        "        \n",
        "            # End the game (break out of the loop)\n",
        "\n",
        "            \n",
        "        # Otherwise (the input is not two exclamation points):\n",
        "\n",
        "            # If the word is valid:\n",
        "\n",
        "                # Tell the user how many points the word earned,\n",
        "                # and the updated total score\n",
        "\n",
        "            # Otherwise (the word is not valid):\n",
        "                # Reject invalid word (print a message)\n",
        "                \n",
        "            # update the user's hand by removing the letters of their inputted word\n",
        "            \n",
        "\n",
        "    # Game is over (user entered '!!' or ran out of letters),\n",
        "    # so tell user the total score\n",
        "\n",
        "    # Return the total score as result of function"
      ],
      "execution_count": null,
      "outputs": []
    },
    {
      "cell_type": "code",
      "metadata": {
        "id": "Mx4lMOjgmdMh"
      },
      "source": [
        "def play_game(word_list, hand_size):\n",
        "    \"\"\"\n",
        "    Allow the user to play a series of hands\n",
        "\n",
        "    * Asks the user to input a total number of hands\n",
        "\n",
        "    * Accumulates the score for each hand into a total score for the \n",
        "      entire series\n",
        " \n",
        "    * For each hand, before playing, ask the user if they want to substitute\n",
        "      one letter for another. If the user inputs 'yes', prompt them for their\n",
        "      desired letter. This can only be done once during the game. Once the\n",
        "      substitue option is used, the user should not be asked if they want to\n",
        "      substitute letters in the future.\n",
        "\n",
        "    * For each hand, ask the user if they would like to replay the hand.\n",
        "      If the user inputs 'yes', they will replay the hand and keep \n",
        "      the better of the two scores for that hand.  This can only be done once \n",
        "      during the game. Once the replay option is used, the user should not\n",
        "      be asked if they want to replay future hands. Replaying the hand does\n",
        "      not count as one of the total number of hands the user initially\n",
        "      wanted to play.\n",
        "\n",
        "            * Note: if you replay a hand, you do not get the option to substitute\n",
        "                    a letter - you must play whatever hand you just had.\n",
        "      \n",
        "    * Returns the total score for the series of hands\n",
        "\n",
        "    word_list: list of lowercase strings\n",
        "    \"\"\"\n",
        "    \n",
        "    number_of_hands = int(input('Enter total number of hands: '))\n",
        "    total_score = 0\n",
        "    for i in range(number_of_hands):\n",
        "      hand = deal_hand(hand_size)\n",
        "      hand_score = play_hand(hand, wordlist)\n",
        "      total_score += hand_score\n",
        "      replay_question = str(input('Would you like to replay the hand? Please, enter yes or no: ')).lower()\n",
        "      if replay_question == 'yes':\n",
        "        total_score -= hand_score \n",
        "        hand_score = play_hand(hand, wordlist)\n",
        "        total_score += hand_score \n",
        "      else:\n",
        "        pass\n",
        "        \n",
        "    print('---------')\n",
        "    print('Total score over all hands: {}'.format(total_score))\n",
        "\n",
        "\n"
      ],
      "execution_count": null,
      "outputs": []
    },
    {
      "cell_type": "markdown",
      "metadata": {
        "id": "i3ENZhPbGHQZ"
      },
      "source": [
        "###Test"
      ]
    },
    {
      "cell_type": "code",
      "metadata": {
        "colab": {
          "base_uri": "https://localhost:8080/"
        },
        "id": "dPPN3FxEraWy",
        "outputId": "3992fdf1-f116-4c7e-dadd-f406b8e582e9"
      },
      "source": [
        "play_game(wordlist, 6)"
      ],
      "execution_count": null,
      "outputs": [
        {
          "output_type": "stream",
          "name": "stdout",
          "text": [
            "Enter total number of hands: 2\n",
            "Current hand is: {'o': 1, '*': 1, 'z': 1, 'n': 2, 'l': 1}\n",
            "Would you like to substitute a letter? Please, enter yes or no: no\n",
            "Current hand is: {'o': 1, '*': 1, 'z': 1, 'n': 2, 'l': 1}\n",
            "Enter word, or \"!!\" to indicate that you are finished: zol\n",
            "The word is invalid\n",
            "Total score: 0 points\n",
            "Current hand is: {'o': 0, '*': 1, 'z': 0, 'n': 2, 'l': 0}\n",
            "Enter word, or \"!!\" to indicate that you are finished: nn1\n",
            "The word is invalid\n",
            "Total score: 0 points\n",
            "Current hand is: {'o': 0, '*': 1, 'z': 0, 'n': 0, 'l': 0}\n",
            "Enter word, or \"!!\" to indicate that you are finished: *\n",
            "The word is invalid\n",
            "Total score: 0 points\n",
            "Ran out of letters.\n",
            "Total score for this hand is 0\n",
            "Would you like to replay the hand? Please, enter yes or no: no\n",
            "Current hand is: {'e': 1, '*': 1, 's': 1, 't': 1, 'd': 1, 'r': 1}\n",
            "Would you like to substitute a letter? Please, enter yes or no: yes\n",
            "Please enter the letter to substitute: s\n",
            "Current hand is: {'e': 1, '*': 1, 't': 1, 'd': 1, 'r': 1, 'l': 1}\n",
            "Enter word, or \"!!\" to indicate that you are finished: ted\n",
            "ted earns 48\n",
            "Total score: 48 points\n",
            "Current hand is: {'e': 0, '*': 1, 't': 0, 'd': 0, 'r': 1, 'l': 1}\n",
            "Enter word, or \"!!\" to indicate that you are finished: r*l\n",
            "The word is invalid\n",
            "Total score: 48 points\n",
            "Ran out of letters.\n",
            "Total score for this hand is 48\n",
            "Would you like to replay the hand? Please, enter yes or no: no\n",
            "---------\n",
            "Total score over all hands: 48\n"
          ]
        }
      ]
    }
  ]
}
