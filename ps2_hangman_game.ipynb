{
  "nbformat": 4,
  "nbformat_minor": 0,
  "metadata": {
    "colab": {
      "name": "ps2_hangman_game.ipynb",
      "provenance": []
    },
    "kernelspec": {
      "name": "python3",
      "display_name": "Python 3"
    },
    "language_info": {
      "name": "python"
    }
  },
  "cells": [
    {
      "cell_type": "code",
      "metadata": {
        "colab": {
          "base_uri": "https://localhost:8080/"
        },
        "id": "sfcZdCbVGDuy",
        "outputId": "fefc38e0-5b0b-41f2-d8d3-c4d2c87fe34b"
      },
      "source": [
        "! python hangman.py"
      ],
      "execution_count": null,
      "outputs": [
        {
          "output_type": "stream",
          "name": "stdout",
          "text": [
            "Loading word list from file...\n",
            "   55900 words loaded.\n"
          ]
        }
      ]
    },
    {
      "cell_type": "code",
      "metadata": {
        "colab": {
          "base_uri": "https://localhost:8080/"
        },
        "id": "o3xtT02OJ2mz",
        "outputId": "f7a76b7d-27fc-4890-ca50-4c67725e08d4"
      },
      "source": [
        "from hangman import *\n",
        "import random\n",
        "import string"
      ],
      "execution_count": null,
      "outputs": [
        {
          "output_type": "stream",
          "name": "stdout",
          "text": [
            "Loading word list from file...\n",
            "   55900 words loaded.\n"
          ]
        }
      ]
    },
    {
      "cell_type": "code",
      "metadata": {
        "colab": {
          "base_uri": "https://localhost:8080/"
        },
        "id": "vC4HdOveLPDf",
        "outputId": "7bee182e-fd32-46e6-ea55-c576652fa016"
      },
      "source": [
        "wordlist = load_words()"
      ],
      "execution_count": null,
      "outputs": [
        {
          "output_type": "stream",
          "name": "stdout",
          "text": [
            "Loading word list from file...\n",
            "   55900 words loaded.\n"
          ]
        }
      ]
    },
    {
      "cell_type": "markdown",
      "metadata": {
        "id": "IdnafOWTjJ0Q"
      },
      "source": [
        "#Function 1: is_word_guessed"
      ]
    },
    {
      "cell_type": "code",
      "metadata": {
        "id": "f8Hw_WjGHKY7"
      },
      "source": [
        "def split_word(word):\n",
        "  return list(word)"
      ],
      "execution_count": null,
      "outputs": []
    },
    {
      "cell_type": "code",
      "metadata": {
        "id": "7F-fcNIELAtA"
      },
      "source": [
        "def is_word_guessed(secret_word, letters_guessed):\n",
        "  '''\n",
        "    secret_word: string, the word the user is guessing; assumes all letters are\n",
        "      lowercase\n",
        "    letters_guessed: list (of letters), which letters have been guessed so far;\n",
        "      assumes that all letters are lowercase\n",
        "    returns: boolean, True if all the letters of secret_word are in letters_guessed;\n",
        "      False otherwise\n",
        "  '''\n",
        "  secret_word_letters = split_word(secret_word)\n",
        "  check_list = []\n",
        "  for char in secret_word_letters:\n",
        "    if char in letters_guessed:\n",
        "      check_list.append(True)\n",
        "    else:\n",
        "      check_list.append(False)\n",
        "  if check_list[0]==True and len(set(check_list)) == 1:\n",
        "    return True\n",
        "  else:\n",
        "    return False \n",
        "\n",
        "      "
      ],
      "execution_count": null,
      "outputs": []
    },
    {
      "cell_type": "markdown",
      "metadata": {
        "id": "BGzs4Z16jMZ9"
      },
      "source": [
        "###Test Function 1"
      ]
    },
    {
      "cell_type": "code",
      "metadata": {
        "id": "NukytYGTKyjf",
        "colab": {
          "base_uri": "https://localhost:8080/"
        },
        "outputId": "97f64c8e-9d0f-471d-fd44-56fa177ad804"
      },
      "source": [
        "secret_word = 'apple'\n",
        "letters_guessed = []\n",
        "print(is_word_guessed(secret_word, letters_guessed))"
      ],
      "execution_count": null,
      "outputs": [
        {
          "output_type": "stream",
          "name": "stdout",
          "text": [
            "False\n"
          ]
        }
      ]
    },
    {
      "cell_type": "markdown",
      "metadata": {
        "id": "PjpqVD2ujSPl"
      },
      "source": [
        "#Function 2: get_guessed_word"
      ]
    },
    {
      "cell_type": "code",
      "metadata": {
        "id": "DLvGmRLdhJ72"
      },
      "source": [
        "def get_guessed_word(secret_word, letters_guessed):\n",
        "  '''\n",
        "    secret_word: string, the word the user is guessing\n",
        "    letters_guessed: list (of letters), which letters have been guessed so far\n",
        "    returns: string, comprised of letters, underscores (_), and spaces that represents\n",
        "      which letters in secret_word have been guessed so far.\n",
        "  '''\n",
        "    \n",
        "  final_return = \"\"\n",
        "  for char in secret_word:\n",
        "    if char in letters_guessed:\n",
        "      final_return += char\n",
        "    else:\n",
        "      final_return += '_ '\n",
        "        \n",
        "  return final_return"
      ],
      "execution_count": null,
      "outputs": []
    },
    {
      "cell_type": "markdown",
      "metadata": {
        "id": "461-m_1iAS4S"
      },
      "source": [
        "###Test Function **2**"
      ]
    },
    {
      "cell_type": "code",
      "metadata": {
        "id": "_bJ6gqDckNS_",
        "colab": {
          "base_uri": "https://localhost:8080/"
        },
        "outputId": "36f75071-94ca-41d8-df25-fb4bd08692ad"
      },
      "source": [
        "secret_word = 'apple'\n",
        "letters_guessed = []\n",
        "print(get_guessed_word(secret_word, letters_guessed))"
      ],
      "execution_count": null,
      "outputs": [
        {
          "output_type": "stream",
          "name": "stdout",
          "text": [
            "_ _ _ _ _ \n"
          ]
        }
      ]
    },
    {
      "cell_type": "markdown",
      "metadata": {
        "id": "9gJ-DfC9C2dT"
      },
      "source": [
        "#Function 3: "
      ]
    },
    {
      "cell_type": "code",
      "metadata": {
        "id": "Y2AshowaDjFR"
      },
      "source": [
        "def get_available_letters(letters_guessed):\n",
        "\n",
        "  final_return = ''\n",
        "  all_letters = list(string.ascii_lowercase)\n",
        "  for char in all_letters:\n",
        "    if char not in letters_guessed:\n",
        "      final_return += char\n",
        "      \n",
        "  return final_return"
      ],
      "execution_count": null,
      "outputs": []
    },
    {
      "cell_type": "markdown",
      "metadata": {
        "id": "gGHTsqDSAdqW"
      },
      "source": [
        "###Test Function 3"
      ]
    },
    {
      "cell_type": "code",
      "metadata": {
        "colab": {
          "base_uri": "https://localhost:8080/"
        },
        "id": "5_b6U7pkDPqj",
        "outputId": "3c5d889c-ae75-4db3-e007-a00a65498b2c"
      },
      "source": [
        "letters_guessed = []\n",
        "print(get_available_letters(letters_guessed))"
      ],
      "execution_count": null,
      "outputs": [
        {
          "output_type": "stream",
          "name": "stdout",
          "text": [
            "abcdefghijklmnopqrstuvwxyz\n"
          ]
        }
      ]
    },
    {
      "cell_type": "markdown",
      "metadata": {
        "id": "0WspC1rHGxrt"
      },
      "source": [
        "#Function 4"
      ]
    },
    {
      "cell_type": "code",
      "metadata": {
        "id": "iZ06DOObG0Ig"
      },
      "source": [
        "def hangman():\n",
        "  secret_word = random.choice(wordlist)\n",
        "  number_of_guesses = 6\n",
        "  number_of_warnings = 3\n",
        "  vowels = ['a', 'e', 'i', 'o']\n",
        "  print(\"Welcome to the game Hangman!\")\n",
        "  print(\"I am thinking of a word that is {} letters long.\".format(len(secret_word)))\n",
        "  print(\"You have 3 warnings left.\")\n",
        "  print(\"---------\")\n",
        "  letters_guessed = []\n",
        "  while number_of_guesses > 0 and is_word_guessed(secret_word, letters_guessed) == False:\n",
        "    print(\"You have {} guesses left.\".format(number_of_guesses))\n",
        "    print(\"Available letters: \" + get_available_letters(letters_guessed))\n",
        "    \n",
        "    guess = input(\"Please guess a letter: \").lower()\n",
        "  \n",
        "    if str.isalpha(guess)==False:\n",
        "      if number_of_warnings <= 0:\n",
        "        number_of_guesses -= 1\n",
        "        print('You ran out of warnings. Your number of guesses is {}'.format(number_of_guesses) + get_guessed_word(secret_word, letters_guessed))\n",
        "        print('--------')\n",
        "      else:\n",
        "        number_of_warnings -= 1\n",
        "        print(\"Oops! That is not a valid letter. You have {} warnings left: \".format(number_of_warnings) + get_guessed_word(secret_word, letters_guessed))\n",
        "        print('--------')\n",
        "    elif guess in letters_guessed:\n",
        "      if number_of_warnings <= 0:\n",
        "        number_of_guesses -= 1\n",
        "        print('You ran out of warnings. Your number of guesses is {}'.format(number_of_guesses) + get_guessed_word(secret_word, letters_guessed))\n",
        "        print('--------')\n",
        "      else:\n",
        "        number_of_warnings -= 1\n",
        "        print(\"Oops! You've already guessed that letter. You now have {} warnings: \".format(number_of_warnings) + get_guessed_word(secret_word, letters_guessed))\n",
        "        print('--------')\n",
        "        \n",
        "    else: \n",
        "      letters_guessed.append(guess)\n",
        "      if guess[0] in secret_word:\n",
        "        print(\"Good guess: \" + get_guessed_word(secret_word, letters_guessed))\n",
        "        print('--------')\n",
        "      elif guess in vowels:\n",
        "        number_of_guesses -= 2\n",
        "        print(\"Oops! That letter is not in my word: \" + get_guessed_word(secret_word, letters_guessed))\n",
        "        print('--------')\n",
        "      else:\n",
        "        number_of_guesses -= 1\n",
        "        print(\"Oops! That letter is not in my word: \" + get_guessed_word(secret_word, letters_guessed))\n",
        "        print(\"--------\")\n",
        "  if number_of_guesses == 0:\n",
        "    print(\"Sorry, you ran out of guesses. The word was {}\".format(secret_word))\n",
        "  elif is_word_guessed(secret_word, letters_guessed) == True:\n",
        "      print(\"Congratulations, you won!\")\n",
        "      print(\"Your total score for this game is: {}\".format(number_of_guesses * len(set(secret_word))))\n",
        "      "
      ],
      "execution_count": null,
      "outputs": []
    },
    {
      "cell_type": "markdown",
      "metadata": {
        "id": "w7z5qVfdAoTV"
      },
      "source": [
        "###Test Function 4"
      ]
    },
    {
      "cell_type": "code",
      "metadata": {
        "colab": {
          "base_uri": "https://localhost:8080/"
        },
        "id": "T8eoRKE1Oy8H",
        "outputId": "c7e7744f-f4f8-4b42-f2e7-fd6d4b5b8180"
      },
      "source": [
        "#secret_word = choose_word(wordlist)\n",
        "secret_word = 'tact'\n",
        "hangman(secret_word)"
      ],
      "execution_count": null,
      "outputs": [
        {
          "output_type": "stream",
          "name": "stdout",
          "text": [
            "Welcome to the game Hangman!\n",
            "I am thinking of a word that is 4 letters long.\n",
            "You have 3 warnings left.\n",
            "---------\n",
            "You have 6 guesses left.\n",
            "Available letters: abcdefghijklmnopqrstuvwxyz\n",
            "Please guess a letter: t\n",
            "Good guess: t_ _ t\n",
            "--------\n",
            "You have 6 guesses left.\n",
            "Available letters: abcdefghijklmnopqrsuvwxyz\n",
            "Please guess a letter: a\n",
            "Good guess: ta_ t\n",
            "--------\n",
            "You have 6 guesses left.\n",
            "Available letters: bcdefghijklmnopqrsuvwxyz\n",
            "Please guess a letter: c\n",
            "Good guess: tact\n",
            "--------\n",
            "Congratulations, you won!\n",
            "Your total score for this game is: 18\n"
          ]
        }
      ]
    },
    {
      "cell_type": "markdown",
      "metadata": {
        "id": "ynGwkOMpAwaT"
      },
      "source": [
        "#Function 5"
      ]
    },
    {
      "cell_type": "code",
      "metadata": {
        "id": "RaM2LC2SrCxf"
      },
      "source": [
        "def match_with_gaps(my_word, other_word):\n",
        "  my_word_striped = my_word.replace(' ', '')\n",
        "  check_list = []\n",
        "  if len(my_word_striped) != len(other_word):\n",
        "    return False\n",
        "  else:\n",
        "    for i in range(len(my_word_striped)):\n",
        "      if my_word_striped[i] == '_':\n",
        "        if other_word[i] not in my_word_striped:\n",
        "          check_list.append('true')\n",
        "        else:\n",
        "          check_list.append('false')\n",
        "      else:\n",
        "        if my_word_striped[i] == other_word[i]:\n",
        "          check_list.append('true')\n",
        "        else:\n",
        "          check_list.append('false')\n",
        "  if len(set(check_list)) == 1 and check_list[0] == 'true':\n",
        "    return True\n",
        "  else:\n",
        "    return False\n",
        "\n",
        "        "
      ],
      "execution_count": null,
      "outputs": []
    },
    {
      "cell_type": "markdown",
      "metadata": {
        "id": "wWX5n1SRAtxI"
      },
      "source": [
        "###Test Function 5"
      ]
    },
    {
      "cell_type": "code",
      "metadata": {
        "colab": {
          "base_uri": "https://localhost:8080/"
        },
        "id": "QTwx81PmsdKK",
        "outputId": "d9776146-c8ae-473d-efe1-64652a1b2895"
      },
      "source": [
        "match_with_gaps(\"te_ t\", \"tact\")"
      ],
      "execution_count": null,
      "outputs": [
        {
          "output_type": "execute_result",
          "data": {
            "text/plain": [
              "False"
            ]
          },
          "metadata": {},
          "execution_count": 18
        }
      ]
    },
    {
      "cell_type": "code",
      "metadata": {
        "colab": {
          "base_uri": "https://localhost:8080/"
        },
        "id": "AbHiLue6gEJu",
        "outputId": "64ce2961-c063-4214-b723-ce96aa20b593"
      },
      "source": [
        "match_with_gaps(\"a_ _ le\", \"banana\")"
      ],
      "execution_count": null,
      "outputs": [
        {
          "output_type": "execute_result",
          "data": {
            "text/plain": [
              "False"
            ]
          },
          "metadata": {},
          "execution_count": 19
        }
      ]
    },
    {
      "cell_type": "code",
      "metadata": {
        "colab": {
          "base_uri": "https://localhost:8080/"
        },
        "id": "nJeSNloDgOkf",
        "outputId": "6f4eae55-4a85-44b2-ae11-972c837d56bd"
      },
      "source": [
        "match_with_gaps(\"a_ _ le\", \"apple\")"
      ],
      "execution_count": null,
      "outputs": [
        {
          "output_type": "execute_result",
          "data": {
            "text/plain": [
              "True"
            ]
          },
          "metadata": {},
          "execution_count": 20
        }
      ]
    },
    {
      "cell_type": "code",
      "metadata": {
        "colab": {
          "base_uri": "https://localhost:8080/"
        },
        "id": "7w0ftev6gQyN",
        "outputId": "2e101cde-45b7-4ffc-cca8-c4f2134e4501"
      },
      "source": [
        "match_with_gaps(\"a_ ple\", \"apple\")"
      ],
      "execution_count": null,
      "outputs": [
        {
          "output_type": "execute_result",
          "data": {
            "text/plain": [
              "False"
            ]
          },
          "metadata": {},
          "execution_count": 21
        }
      ]
    },
    {
      "cell_type": "markdown",
      "metadata": {
        "id": "JQF8BTUfA0Ku"
      },
      "source": [
        "#Function 6"
      ]
    },
    {
      "cell_type": "code",
      "metadata": {
        "id": "6ETKbNVogTBd"
      },
      "source": [
        "def show_possible_matches(my_word):\n",
        "  my_word_striped = my_word.replace(' ', '')\n",
        "  wordlist_filtered = [word for word in wordlist if len(word) == len(my_word_striped)]\n",
        "  possible_matches = []\n",
        "  for i in wordlist_filtered:\n",
        "    if match_with_gaps(my_word, i) == True:\n",
        "      possible_matches.append(i)\n",
        "  if len(possible_matches) == 0:\n",
        "    print('No matches found')\n",
        "  else:\n",
        "    print(possible_matches)"
      ],
      "execution_count": null,
      "outputs": []
    },
    {
      "cell_type": "markdown",
      "metadata": {
        "id": "TTjsy1DWA2C_"
      },
      "source": [
        "###Test FUnction 6"
      ]
    },
    {
      "cell_type": "code",
      "metadata": {
        "colab": {
          "base_uri": "https://localhost:8080/"
        },
        "id": "vSsPAsVAsK6u",
        "outputId": "0d1fe492-521e-4be4-e3ae-39565743b580"
      },
      "source": [
        "show_possible_matches(\"t_ _ t\")"
      ],
      "execution_count": null,
      "outputs": [
        {
          "output_type": "stream",
          "name": "stdout",
          "text": [
            "['tact', 'tart', 'taut', 'teat', 'tent', 'test', 'text', 'that', 'tilt', 'tint', 'toot', 'tort', 'tout', 'trot', 'tuft', 'twit']\n"
          ]
        }
      ]
    },
    {
      "cell_type": "code",
      "metadata": {
        "colab": {
          "base_uri": "https://localhost:8080/"
        },
        "id": "oEzQuY1jsBmS",
        "outputId": "4035147b-10aa-4bd2-e6db-57875a8f5b3f"
      },
      "source": [
        "show_possible_matches(\"abbbb_ \")"
      ],
      "execution_count": null,
      "outputs": [
        {
          "output_type": "stream",
          "name": "stdout",
          "text": [
            "No matches found\n"
          ]
        }
      ]
    },
    {
      "cell_type": "markdown",
      "metadata": {
        "id": "f-iZ-fsEA34U"
      },
      "source": [
        "#Final game"
      ]
    },
    {
      "cell_type": "code",
      "metadata": {
        "id": "DfTQY1kHrVXB"
      },
      "source": [
        "def hangman_with_hints():\n",
        "  secret_word = random.choice(wordlist)\n",
        "  number_of_guesses = 6\n",
        "  number_of_warnings = 3\n",
        "  vowels = ['a', 'e', 'i', 'o']\n",
        "  print(\"Welcome to the game Hangman!\")\n",
        "  print(\"I am thinking of a word that is {} letters long.\".format(len(secret_word)))\n",
        "  print(\"You have 3 warnings left.\")\n",
        "  print(\"---------\")\n",
        "  letters_guessed = []\n",
        "  while number_of_guesses > 0 and is_word_guessed(secret_word, letters_guessed) == False:\n",
        "    print(\"You have {} guesses left.\".format(number_of_guesses))\n",
        "    print(\"Available letters: \" + get_available_letters(letters_guessed))\n",
        "    \n",
        "    guess = input(\"Please guess a letter: \").lower()\n",
        "  \n",
        "    if str.isalpha(guess)==False:\n",
        "      if guess == '*':\n",
        "        show_possible_matches(get_guessed_word(secret_word, letters_guessed))\n",
        "      else:\n",
        "        if number_of_warnings <= 0:\n",
        "          number_of_guesses -= 1\n",
        "          print('You ran out of warnings. Your number of guesses is {}'.format(number_of_guesses) + get_guessed_word(secret_word, letters_guessed))\n",
        "          print('--------')\n",
        "        else:\n",
        "          number_of_warnings -= 1\n",
        "          print(\"Oops! That is not a valid letter. You have {} warnings left: \".format(number_of_warnings) + get_guessed_word(secret_word, letters_guessed))\n",
        "          print('--------')\n",
        "    elif guess in letters_guessed:\n",
        "      if number_of_warnings <= 0:\n",
        "        number_of_guesses -= 1\n",
        "        print('You ran out of warnings. Your number of guesses is {}'.format(number_of_guesses) + get_guessed_word(secret_word, letters_guessed))\n",
        "        print('--------')\n",
        "      else:\n",
        "        number_of_warnings -= 1\n",
        "        print(\"Oops! You've already guessed that letter. You now have {} warnings: \".format(number_of_warnings) + get_guessed_word(secret_word, letters_guessed))\n",
        "        print('--------')\n",
        "        \n",
        "    else: \n",
        "      letters_guessed.append(guess)\n",
        "      if guess[0] in secret_word:\n",
        "        print(\"Good guess: \" + get_guessed_word(secret_word, letters_guessed))\n",
        "        print('--------')\n",
        "      elif guess in vowels:\n",
        "        number_of_guesses -= 2\n",
        "        print(\"Oops! That letter is not in my word: \" + get_guessed_word(secret_word, letters_guessed))\n",
        "        print('--------')\n",
        "      else:\n",
        "        number_of_guesses -= 1\n",
        "        print(\"Oops! That letter is not in my word: \" + get_guessed_word(secret_word, letters_guessed))\n",
        "        print(\"--------\")\n",
        "  if number_of_guesses == 0:\n",
        "    print(\"Sorry, you ran out of guesses. The word was {}\".format(secret_word))\n",
        "  elif is_word_guessed(secret_word, letters_guessed) == True:\n",
        "      print(\"Congratulations, you won!\")\n",
        "      print(\"Your total score for this game is: {}\".format(number_of_guesses * len(set(secret_word))))\n",
        "\n",
        "\n"
      ],
      "execution_count": null,
      "outputs": []
    },
    {
      "cell_type": "markdown",
      "metadata": {
        "id": "0gcKh1ggA6Kh"
      },
      "source": [
        "#Test"
      ]
    },
    {
      "cell_type": "code",
      "metadata": {
        "colab": {
          "base_uri": "https://localhost:8080/"
        },
        "id": "XSZu2YWJkLeq",
        "outputId": "cc923266-0f58-488d-9744-d90cc0415c8c"
      },
      "source": [
        "hangman_with_hints()"
      ],
      "execution_count": null,
      "outputs": [
        {
          "output_type": "stream",
          "name": "stdout",
          "text": [
            "Welcome to the game Hangman!\n",
            "I am thinking of a word that is 6 letters long.\n",
            "You have 3 warnings left.\n",
            "---------\n",
            "You have 6 guesses left.\n",
            "Available letters: abcdefghijklmnopqrstuvwxyz\n",
            "Please guess a letter: g\n",
            "Oops! That letter is not in my word: _ _ _ _ _ _ \n",
            "--------\n",
            "You have 5 guesses left.\n",
            "Available letters: abcdefhijklmnopqrstuvwxyz\n",
            "Please guess a letter: a\n",
            "Good guess: _ _ _ a_ _ \n",
            "--------\n",
            "You have 5 guesses left.\n",
            "Available letters: bcdefhijklmnopqrstuvwxyz\n",
            "Please guess a letter: t\n",
            "Oops! That letter is not in my word: _ _ _ a_ _ \n",
            "--------\n",
            "You have 4 guesses left.\n",
            "Available letters: bcdefhijklmnopqrsuvwxyz\n",
            "Please guess a letter: r\n",
            "Good guess: _ r_ ar_ \n",
            "--------\n",
            "You have 4 guesses left.\n",
            "Available letters: bcdefhijklmnopqsuvwxyz\n",
            "Please guess a letter: c\n",
            "Oops! That letter is not in my word: _ r_ ar_ \n",
            "--------\n",
            "You have 3 guesses left.\n",
            "Available letters: bdefhijklmnopqsuvwxyz\n",
            "Please guess a letter: *\n",
            "['briars', 'dreary', 'friars']\n",
            "You have 3 guesses left.\n",
            "Available letters: bdefhijklmnopqsuvwxyz\n",
            "Please guess a letter: i\n",
            "Oops! That letter is not in my word: _ r_ ar_ \n",
            "--------\n",
            "You have 1 guesses left.\n",
            "Available letters: bdefhjklmnopqsuvwxyz\n",
            "Please guess a letter: b\n",
            "Oops! That letter is not in my word: _ r_ ar_ \n",
            "--------\n",
            "Sorry, you ran out of guesses. The word was dreary\n"
          ]
        }
      ]
    }
  ]
}