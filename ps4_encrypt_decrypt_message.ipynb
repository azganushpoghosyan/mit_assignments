{
  "nbformat": 4,
  "nbformat_minor": 0,
  "metadata": {
    "colab": {
      "name": "ps4_encrypt_decrypt_message.ipynb",
      "provenance": [],
      "collapsed_sections": [],
      "authorship_tag": "ABX9TyNj/FFy41Ao6/a3DSGGL/5l",
      "include_colab_link": true
    },
    "kernelspec": {
      "name": "python3",
      "display_name": "Python 3"
    },
    "language_info": {
      "name": "python"
    }
  },
  "cells": [
    {
      "cell_type": "markdown",
      "metadata": {
        "id": "view-in-github",
        "colab_type": "text"
      },
      "source": [
        "<a href=\"https://colab.research.google.com/github/azganushpoghosyan/mit_assignments/blob/main/ps4_encrypt_decrypt_message.ipynb\" target=\"_parent\"><img src=\"https://colab.research.google.com/assets/colab-badge.svg\" alt=\"Open In Colab\"/></a>"
      ]
    },
    {
      "cell_type": "markdown",
      "metadata": {
        "id": "jDO4ITTpNkvY"
      },
      "source": [
        "###Part A"
      ]
    },
    {
      "cell_type": "code",
      "metadata": {
        "id": "Vf1iDX7jXatT"
      },
      "source": [
        "def get_permutations(sequence):\n",
        "    '''\n",
        "    Enumerate all permutations of a given string\n",
        "\n",
        "    sequence (string): an arbitrary string to permute. Assume that it is a\n",
        "    non-empty string.  \n",
        "\n",
        "    You MUST use recursion for this part. Non-recursive solutions will not be\n",
        "    accepted.\n",
        "\n",
        "    Returns: a list of all permutations of sequence\n",
        "\n",
        "    Example:\n",
        "    >>> get_permutations('abc')\n",
        "    ['abc', 'acb', 'bac', 'bca', 'cab', 'cba']\n",
        "\n",
        "    Note: depending on your implementation, you may return the permutations in\n",
        "    a different order than what is listed here.\n",
        "    '''\n",
        "    \n",
        "    if len(sequence) == 1:\n",
        "      permutations = []\n",
        "      permutations.append(sequence)\n",
        "      \n",
        "    else: \n",
        "      letter = sequence[0]\n",
        "      permutations = get_permutations(sequence[1:])\n",
        "      \n",
        "      for i in range(len(permutations)):\n",
        "        for j in range(len(permutations[i]) + 1):\n",
        "          #print(permutations[i][:j])\n",
        "          #print(letter)\n",
        "          #print(permutations[i][j:])\n",
        "          permutations.append(permutations[i][:j] + letter + permutations[i][j:])\n",
        "          #permutations.remove(permutations[i])\n",
        "    final_permutations = []\n",
        "    for m in permutations:\n",
        "      if len(m) == len(sequence):\n",
        "        final_permutations.append(m)\n",
        "    return final_permutations\n",
        "\n",
        "    \n"
      ],
      "execution_count": null,
      "outputs": []
    },
    {
      "cell_type": "code",
      "metadata": {
        "colab": {
          "base_uri": "https://localhost:8080/"
        },
        "id": "Jbf1zpQ1bwfb",
        "outputId": "7af2156b-5676-444f-f81c-4719331f226e"
      },
      "source": [
        "res = get_permutations('abcd')\n",
        "res"
      ],
      "execution_count": null,
      "outputs": [
        {
          "output_type": "execute_result",
          "data": {
            "text/plain": [
              "['abcd',\n",
              " 'bacd',\n",
              " 'bcad',\n",
              " 'bcda',\n",
              " 'acbd',\n",
              " 'cabd',\n",
              " 'cbad',\n",
              " 'cbda',\n",
              " 'acdb',\n",
              " 'cadb',\n",
              " 'cdab',\n",
              " 'cdba',\n",
              " 'abdc',\n",
              " 'badc',\n",
              " 'bdac',\n",
              " 'bdca',\n",
              " 'adbc',\n",
              " 'dabc',\n",
              " 'dbac',\n",
              " 'dbca',\n",
              " 'adcb',\n",
              " 'dacb',\n",
              " 'dcab',\n",
              " 'dcba']"
            ]
          },
          "metadata": {},
          "execution_count": 2
        }
      ]
    },
    {
      "cell_type": "code",
      "metadata": {
        "id": "wt0IdVO9adP8"
      },
      "source": [
        "if __name__ == '__main__':\n",
        "#    #EXAMPLE\n",
        "#    example_input = 'abc'\n",
        "#    print('Input:', example_input)\n",
        "#    print('Expected Output:', ['abc', 'acb', 'bac', 'bca', 'cab', 'cba'])\n",
        "#    print('Actual Output:', get_permutations(example_input))\n",
        "    \n",
        "#    # Put three example test cases here (for your sanity, limit your inputs\n",
        "#    to be three characters or fewer as you will have n! permutations for a \n",
        "#    sequence of length n)\n",
        "\n",
        "    pass #delete this line and replace with your code here"
      ],
      "execution_count": null,
      "outputs": []
    },
    {
      "cell_type": "markdown",
      "metadata": {
        "id": "VqXG669PNoNy"
      },
      "source": [
        "###Part B"
      ]
    },
    {
      "cell_type": "code",
      "metadata": {
        "id": "nJxRn1y0EQaz"
      },
      "source": [
        "def load_words(file_name):\n",
        "  '''\n",
        "    file_name (string): the name of the file containing \n",
        "    the list of words to load    \n",
        "    \n",
        "    Returns: a list of valid words. Words are strings of lowercase letters.\n",
        "    \n",
        "    Depending on the size of the word list, this function may\n",
        "    take a while to finish.\n",
        "  '''\n",
        "  print(\"Loading word list from file...\")\n",
        "  # inFile: file\n",
        "  inFile = open(file_name, 'r')\n",
        "  # wordlist: list of strings\n",
        "  wordlist = []\n",
        "  for line in inFile:\n",
        "    wordlist.extend([word.lower() for word in line.split(' ')])\n",
        "  print(\"  \", len(wordlist), \"words loaded.\")\n",
        "  return wordlist\n",
        "\n",
        "def is_word(word_list, word):\n",
        "  '''\n",
        "    Determines if word is a valid word, ignoring\n",
        "    capitalization and punctuation\n",
        "\n",
        "    word_list (list): list of words in the dictionary.\n",
        "    word (string): a possible word.\n",
        "    \n",
        "    Returns: True if word is in word_list, False otherwise\n",
        "\n",
        "    Example:\n",
        "    >>> is_word(word_list, 'bat') returns\n",
        "    True\n",
        "    >>> is_word(word_list, 'asdf') returns\n",
        "    False\n",
        "  '''\n",
        "  word = word.lower()\n",
        "  word = word.strip(\" !@#$%^&*()-_+={}[]|\\:;'<>?,./\\\"\")\n",
        "  return word in word_list\n",
        "\n",
        "def get_story_string():\n",
        "  \"\"\"\n",
        "    Returns: a story in encrypted text.\n",
        "  \"\"\"\n",
        "  f = open(\"story.txt\", \"r\")\n",
        "  story = str(f.read())\n",
        "  f.close()\n",
        "  return story"
      ],
      "execution_count": null,
      "outputs": []
    },
    {
      "cell_type": "code",
      "metadata": {
        "id": "8xTgVIjWiruO"
      },
      "source": [
        "WORDLIST_FILENAME = 'words.txt'\n",
        "\n",
        "\n",
        "class Message(object):\n",
        "  def __init__(self, text):\n",
        "    '''\n",
        "        Initializes a Message object\n",
        "                \n",
        "        text (string): the message's text\n",
        "\n",
        "        a Message object has two attributes:\n",
        "            self.message_text (string, determined by input text)\n",
        "            self.valid_words (list, determined using helper function load_words)\n",
        "    '''\n",
        "    self.message_text = text\n",
        "    self.valid_words = load_words(WORDLIST_FILENAME)\n",
        "\n",
        "  def get_message_text(self):\n",
        "    '''\n",
        "        Used to safely access self.message_text outside of the class\n",
        "        \n",
        "        Returns: self.message_text\n",
        "    '''\n",
        "    return self.message_text\n",
        "\n",
        "  def get_valid_words(self):\n",
        "    '''\n",
        "        Used to safely access a copy of self.valid_words outside of the class.\n",
        "        This helps you avoid accidentally mutating class attributes.\n",
        "        \n",
        "        Returns: a COPY of self.valid_words\n",
        "    '''\n",
        "    return self.valid_words.copy()\n",
        "\n",
        "  def build_shift_dict(self, shift):\n",
        "    '''\n",
        "        Creates a dictionary that can be used to apply a cipher to a letter.\n",
        "        The dictionary maps every uppercase and lowercase letter to a\n",
        "        character shifted down the alphabet by the input shift. The dictionary\n",
        "        should have 52 keys of all the uppercase letters and all the lowercase\n",
        "        letters only.        \n",
        "        \n",
        "        shift (integer): the amount by which to shift every letter of the \n",
        "        alphabet. 0 <= shift < 26\n",
        "\n",
        "        Returns: a dictionary mapping a letter (string) to \n",
        "                 another letter (string). \n",
        "    '''\n",
        "    alphabet_lower = 2 *'abcdefghijklmnopqrstuvwxyz'\n",
        "    alphabet_upper = 2 * alphabet_lower.upper()\n",
        "    alphabet = alphabet_upper[0:26] + alphabet_lower[0:26]\n",
        "    dict = {}\n",
        "    for i in alphabet:\n",
        "      if alphabet.index(i) <= 25:\n",
        "        dict[i] = alphabet_upper[alphabet_upper.find(i) + shift]\n",
        "      else:\n",
        "        dict[i] = alphabet_lower[alphabet_lower.find(i) + shift]\n",
        "    return dict\n",
        "\n",
        "  def apply_shift(self, shift):\n",
        "    '''\n",
        "        Applies the Caesar Cipher to self.message_text with the input shift.\n",
        "        Creates a new string that is self.message_text shifted down the\n",
        "        alphabet by some number of characters determined by the input shift        \n",
        "        \n",
        "        shift (integer): the shift with which to encrypt the message.\n",
        "        0 <= shift < 26\n",
        "\n",
        "        Returns: the message text (string) in which every character is shifted\n",
        "             down the alphabet by the input shift\n",
        "    '''\n",
        "    enc_dict = self.build_shift_dict(shift)\n",
        "    message_list = []\n",
        "    for i in self.message_text:\n",
        "      if i in list(enc_dict.keys()):\n",
        "        message_list.append(enc_dict[i])\n",
        "      else:\n",
        "        message_list.append(i)\n",
        "    encrypted_message = ''.join(message_list)\n",
        "    return encrypted_message"
      ],
      "execution_count": null,
      "outputs": []
    },
    {
      "cell_type": "code",
      "metadata": {
        "id": "tjJ3o37si0mt"
      },
      "source": [
        "class PlaintextMessage(Message):\n",
        "\n",
        "  def __init__(self, text, shift):\n",
        "    '''\n",
        "        Initializes a PlaintextMessage object        \n",
        "        \n",
        "        text (string): the message's text\n",
        "        shift (integer): the shift associated with this message\n",
        "\n",
        "        A PlaintextMessage object inherits from Message and has five attributes:\n",
        "            self.message_text (string, determined by input text)\n",
        "            self.valid_words (list, determined using helper function load_words)\n",
        "            self.shift (integer, determined by input shift)\n",
        "            self.encryption_dict (dictionary, built using shift)\n",
        "            self.message_text_encrypted (string, created using shift)\n",
        "\n",
        "    '''\n",
        "    Message.__init__(self, text)\n",
        "    self.message_text = text\n",
        "    self.shift = shift\n",
        "    self.encryption_dict = self.build_shift_dict(shift)\n",
        "    self.message_text_encrypted = self.apply_shift(shift)\n",
        "\n",
        "\n",
        "  def get_shift(self):\n",
        "    '''\n",
        "        Used to safely access self.shift outside of the class\n",
        "        \n",
        "        Returns: self.shift\n",
        "    '''\n",
        "    return self.shift\n",
        "\n",
        "  def get_encryption_dict(self):\n",
        "    '''\n",
        "        Used to safely access a copy self.encryption_dict outside of the class\n",
        "        \n",
        "        Returns: a COPY of self.encryption_dict\n",
        "    '''\n",
        "    return self.encryption_dict\n",
        "\n",
        "  def get_message_text_encrypted(self):\n",
        "    '''\n",
        "        Used to safely access self.message_text_encrypted outside of the class\n",
        "        \n",
        "        Returns: self.message_text_encrypted\n",
        "    '''\n",
        "    return self.message_text_encrypted\n",
        "  def set_shift(self, new_shift):\n",
        "    self.shift = new_shift\n",
        "  def set_encryption_dict(self, new_shift):\n",
        "    self.encryption_dict = self.build_shift_dict(new_shift)\n",
        "  def set_message_text_encrypted(self, new_shift):\n",
        "    self.message_text_encrypted = self.apply_shift(new_shift)\n",
        "\n",
        "  def change_shift(self, shift):\n",
        "    '''\n",
        "        Changes self.shift of the PlaintextMessage and updates other \n",
        "        attributes determined by shift.        \n",
        "        \n",
        "        shift (integer): the new shift that should be associated with this message.\n",
        "        0 <= shift < 26\n",
        "\n",
        "        Returns: nothing\n",
        "    '''\n",
        "    self.set_shift(shift)\n",
        "    self.set_encryption_dict(shift)\n",
        "    self.set_message_text_encrypted(shift)\n"
      ],
      "execution_count": null,
      "outputs": []
    },
    {
      "cell_type": "code",
      "metadata": {
        "id": "WQXcJBU7i5Bx"
      },
      "source": [
        "import string\n",
        "class CiphertextMessage(Message):\n",
        "\n",
        "  def __init__(self, text):\n",
        "    '''\n",
        "        Initializes a CiphertextMessage object\n",
        "                \n",
        "        text (string): the message's text\n",
        "\n",
        "        a CiphertextMessage object has two attributes:\n",
        "            self.message_text (string, determined by input text)\n",
        "            self.valid_words (list, determined using helper function load_words)\n",
        "    '''\n",
        "    Message.__init__(self, text)\n",
        "    self.message_text = text\n",
        "\n",
        "  def decrypt_message(self):\n",
        "    '''\n",
        "        Decrypt self.message_text by trying every possible shift value\n",
        "        and find the \"best\" one. We will define \"best\" as the shift that\n",
        "        creates the maximum number of real words when we use apply_shift(shift)\n",
        "        on the message text. If s is the original shift value used to encrypt\n",
        "        the message, then we would expect 26 - s to be the best shift value \n",
        "        for decrypting it.\n",
        "\n",
        "        Note: if multiple shifts are equally good such that they all create \n",
        "        the maximum number of valid words, you may choose any of those shifts \n",
        "        (and their corresponding decrypted messages) to return\n",
        "\n",
        "        Returns: a tuple of the best shift value used to decrypt the message\n",
        "        and the decrypted message text using that shift value\n",
        "    '''\n",
        "    \n",
        "    possible_messages_dict = {}\n",
        "    for shift_value in range(26):\n",
        "      new_message = self.apply_shift(26 - shift_value)\n",
        "      new_message_no_punc = ''.join(ch for ch in new_message if ch not in set(string.punctuation))\n",
        "      new_message_list = list(new_message_no_punc.split(' '))\n",
        "      new_message_isword = [is_word(self.valid_words, word) for word in new_message_list]\n",
        "      possible_messages_dict[shift_value] = (new_message, new_message_isword.count(True))\n",
        "    max_value = max([v[1] for v in list(possible_messages_dict.values())])\n",
        "    best_message = ([k for k in list(possible_messages_dict.keys()) if possible_messages_dict[k][1] == max_value][0], [v[0] for v in list(possible_messages_dict.values()) if v[1] == max_value][0])\n",
        "                                                                                      \n",
        "    return best_message"
      ],
      "execution_count": null,
      "outputs": []
    },
    {
      "cell_type": "code",
      "metadata": {
        "colab": {
          "base_uri": "https://localhost:8080/",
          "height": 69
        },
        "id": "1U6zDJ2DqkFC",
        "outputId": "908fe08f-03ef-4391-9cfb-65495a215c95"
      },
      "source": [
        "object1 = Message('This is the message')\n",
        "object1.get_message_text()\n",
        "#object1.get_valid_words()\n",
        "#object1.build_shift_dict(3)\n",
        "object1.apply_shift(7)"
      ],
      "execution_count": null,
      "outputs": [
        {
          "output_type": "stream",
          "name": "stdout",
          "text": [
            "Loading word list from file...\n",
            "   55901 words loaded.\n"
          ]
        },
        {
          "output_type": "execute_result",
          "data": {
            "application/vnd.google.colaboratory.intrinsic+json": {
              "type": "string"
            },
            "text/plain": [
              "'Aopz pz aol tlzzhnl'"
            ]
          },
          "metadata": {},
          "execution_count": 8
        }
      ]
    },
    {
      "cell_type": "code",
      "metadata": {
        "colab": {
          "base_uri": "https://localhost:8080/"
        },
        "id": "phv1WOkZoaa5",
        "outputId": "42364139-9d28-43d2-bb85-d51032449af3"
      },
      "source": [
        "object2 = PlaintextMessage('This is the message', 1)\n",
        "#object2.get_encryption_dict()\n",
        "object2.get_message_text()\n",
        "object2.get_shift()\n",
        "object2.get_message_text_encrypted()\n",
        "#object2.get_valid_words()\n",
        "object2.apply_shift(2)\n",
        "#object2.build_shift_dict(5)\n",
        "object2.change_shift(3)\n",
        "object2.get_shift()"
      ],
      "execution_count": null,
      "outputs": [
        {
          "output_type": "stream",
          "name": "stdout",
          "text": [
            "Loading word list from file...\n",
            "   55901 words loaded.\n"
          ]
        },
        {
          "output_type": "execute_result",
          "data": {
            "text/plain": [
              "3"
            ]
          },
          "metadata": {},
          "execution_count": 9
        }
      ]
    },
    {
      "cell_type": "code",
      "metadata": {
        "colab": {
          "base_uri": "https://localhost:8080/",
          "height": 69
        },
        "id": "Rft0YylCqmt3",
        "outputId": "3674224f-ba18-4050-a12f-216e3843d8fb"
      },
      "source": [
        "object3 = CiphertextMessage('Aopz pz aol tlzzhnl')\n",
        "object3.get_message_text()\n",
        "#object3.get_valid_words()\n",
        "#object3.build_shift_dict(2)\n",
        "object3.apply_shift(2)"
      ],
      "execution_count": null,
      "outputs": [
        {
          "output_type": "stream",
          "name": "stdout",
          "text": [
            "Loading word list from file...\n",
            "   55901 words loaded.\n"
          ]
        },
        {
          "output_type": "execute_result",
          "data": {
            "application/vnd.google.colaboratory.intrinsic+json": {
              "type": "string"
            },
            "text/plain": [
              "'Cqrb rb cqn vnbbjpn'"
            ]
          },
          "metadata": {},
          "execution_count": 10
        }
      ]
    },
    {
      "cell_type": "code",
      "metadata": {
        "colab": {
          "base_uri": "https://localhost:8080/"
        },
        "id": "hqzQQ-nxq1lX",
        "outputId": "1de29a48-f6f0-463f-86c9-c4b92cdd8582"
      },
      "source": [
        "object3.decrypt_message()"
      ],
      "execution_count": null,
      "outputs": [
        {
          "output_type": "execute_result",
          "data": {
            "text/plain": [
              "(7, 'This is the message')"
            ]
          },
          "metadata": {},
          "execution_count": 11
        }
      ]
    },
    {
      "cell_type": "code",
      "metadata": {
        "id": "EP6PsVYKa9G2"
      },
      "source": [
        "if __name__ == '__main__':\n",
        "\n",
        "#    #Example test case (PlaintextMessage)\n",
        "#    plaintext = PlaintextMessage('hello', 2)\n",
        "#    print('Expected Output: jgnnq')\n",
        "#    print('Actual Output:', plaintext.get_message_text_encrypted())\n",
        "#\n",
        "#    #Example test case (CiphertextMessage)\n",
        "#    ciphertext = CiphertextMessage('jgnnq')\n",
        "#    print('Expected Output:', (24, 'hello'))\n",
        "#    print('Actual Output:', ciphertext.decrypt_message())\n",
        "\n",
        "    #TODO: WRITE YOUR TEST CASES HERE\n",
        "\n",
        "    #TODO: best shift value and unencrypted story \n",
        "    \n",
        "    pass #delete this line and replace with your code here"
      ],
      "execution_count": null,
      "outputs": []
    },
    {
      "cell_type": "markdown",
      "metadata": {
        "id": "1A-Ra45d0XUU"
      },
      "source": [
        "###Problem 4c"
      ]
    },
    {
      "cell_type": "code",
      "metadata": {
        "id": "QdzeewcT0WlC"
      },
      "source": [
        "class SubMessage(object):\n",
        "  def __init__(self, text):\n",
        "    '''\n",
        "        Initializes a SubMessage object\n",
        "                \n",
        "        text (string): the message's text\n",
        "\n",
        "        A SubMessage object has two attributes:\n",
        "            self.message_text (string, determined by input text)\n",
        "            self.valid_words (list, determined using helper function load_words)\n",
        "    '''\n",
        "    self.message_text = text \n",
        "    self.valid_words = load_words(WORDLIST_FILENAME)\n",
        "    \n",
        "  def get_message_text(self):\n",
        "    '''\n",
        "        Used to safely access self.message_text outside of the class\n",
        "        \n",
        "        Returns: self.message_text\n",
        "    '''\n",
        "    return self.message_text\n",
        "\n",
        "  def get_valid_words(self):\n",
        "    '''\n",
        "        Used to safely access a copy of self.valid_words outside of the class.\n",
        "        This helps you avoid accidentally mutating class attributes.\n",
        "        \n",
        "        Returns: a COPY of self.valid_words\n",
        "    '''\n",
        "    return self.valid_words.copy()\n",
        "                \n",
        "  def build_transpose_dict(self, vowels_permutation):\n",
        "    '''\n",
        "        vowels_permutation (string): a string containing a permutation of vowels (a, e, i, o, u)\n",
        "        \n",
        "        Creates a dictionary that can be used to apply a cipher to a letter.\n",
        "        The dictionary maps every uppercase and lowercase letter to an\n",
        "        uppercase and lowercase letter, respectively. Vowels are shuffled \n",
        "        according to vowels_permutation. The first letter in vowels_permutation \n",
        "        corresponds to a, the second to e, and so on in the order a, e, i, o, u.\n",
        "        The consonants remain the same. The dictionary should have 52 \n",
        "        keys of all the uppercase letters and all the lowercase letters.\n",
        "\n",
        "        Example: When input \"eaiuo\":\n",
        "        Mapping is a->e, e->a, i->i, o->u, u->o\n",
        "        and \"Hello World!\" maps to \"Hallu Wurld!\"\n",
        "\n",
        "        Returns: a dictionary mapping a letter (string) to \n",
        "                 another letter (string). \n",
        "    '''\n",
        "    vowels = 'aeiou'\n",
        "    vowels_dict = {}\n",
        "    for i in range(len(vowels)):\n",
        "      vowels_dict[vowels[i]] = vowels_permutation[i]     \n",
        "    alphabet_lower = 'abcdefghijklmnopqrstuvwxyz'\n",
        "    alphabet_upper = alphabet_lower.upper()\n",
        "    alphabet = alphabet_upper + alphabet_lower\n",
        "    dict = {}\n",
        "    for i in alphabet:\n",
        "      if i in [m.upper() for m in list(vowels_dict.keys())]:\n",
        "        dict[i] = vowels_dict[i.lower()].upper()\n",
        "      elif i in list(vowels_dict.keys()):\n",
        "        dict[i] = vowels_dict[i]\n",
        "      else:\n",
        "        dict[i] = i\n",
        "    return dict\n",
        "    \n",
        "  def apply_transpose(self, transpose_dict):\n",
        "    '''\n",
        "        transpose_dict (dict): a transpose dictionary\n",
        "        \n",
        "        Returns: an encrypted version of the message text, based \n",
        "        on the dictionary\n",
        "    '''\n",
        "    message_list = []\n",
        "    for i in self.message_text:\n",
        "      if i in list(transpose_dict.keys()):\n",
        "        message_list.append(transpose_dict[i])\n",
        "      else:\n",
        "        message_list.append(i)\n",
        "    encrypted_message = ''.join(message_list)\n",
        "    return encrypted_message\n",
        "    "
      ],
      "execution_count": null,
      "outputs": []
    },
    {
      "cell_type": "code",
      "metadata": {
        "id": "vk88fdJs6S1d"
      },
      "source": [
        "import string\n",
        "class EncryptedSubMessage(SubMessage):\n",
        "  def __init__(self, text):\n",
        "    '''\n",
        "        Initializes an EncryptedSubMessage object\n",
        "\n",
        "        text (string): the encrypted message text\n",
        "\n",
        "        An EncryptedSubMessage object inherits from SubMessage and has two attributes:\n",
        "            self.message_text (string, determined by input text)\n",
        "            self.valid_words (list, determined using helper function load_words)\n",
        "    '''\n",
        "    SubMessage.__init__(self, text)\n",
        "    self.message_text = text \n",
        "\n",
        "\n",
        "  def decrypt_message(self):\n",
        "    '''\n",
        "        Attempt to decrypt the encrypted message \n",
        "        \n",
        "        Idea is to go through each permutation of the vowels and test it\n",
        "        on the encrypted message. For each permutation, check how many\n",
        "        words in the decrypted text are valid English words, and return\n",
        "        the decrypted message with the most English words.\n",
        "        \n",
        "        If no good permutations are found (i.e. no permutations result in \n",
        "        at least 1 valid word), return the original string. If there are\n",
        "        multiple permutations that yield the maximum number of words, return any\n",
        "        one of them.\n",
        "\n",
        "        Returns: the best decrypted message    \n",
        "        \n",
        "        Hint: use your function from Part 4A\n",
        "    '''\n",
        "    exclude = set(string.punctuation)\n",
        "    permutations = get_permutations('aeoiu')\n",
        "    possible_messages_dict = {}\n",
        "    for perm in permutations:\n",
        "      new_message = self.apply_transpose(self.build_transpose_dict(perm))\n",
        "      new_message_no_punc = ''.join(ch for ch in new_message if ch not in exclude)\n",
        "      new_message_list = list(new_message_no_punc.split(' '))\n",
        "      new_message_isword = [is_word(self.valid_words, word) for word in new_message_list]\n",
        "      possible_messages_dict[perm] = (new_message, new_message_isword.count(True))\n",
        "    max_value = max([v[1] for v in list(possible_messages_dict.values())])\n",
        "    best_message = ([k for k in list(possible_messages_dict.keys()) if possible_messages_dict[k][1] == max_value][0], [v[0] for v in list(possible_messages_dict.values()) if v[1] == max_value][0])\n",
        "                                                                                      \n",
        "    return best_message"
      ],
      "execution_count": null,
      "outputs": []
    },
    {
      "cell_type": "code",
      "metadata": {
        "colab": {
          "base_uri": "https://localhost:8080/"
        },
        "id": "IM1SQmBo-_45",
        "outputId": "05a9c86c-a017-4e06-efea-5264e5f49d49"
      },
      "source": [
        "obj1 = SubMessage('This is the message!')"
      ],
      "execution_count": null,
      "outputs": [
        {
          "output_type": "stream",
          "name": "stdout",
          "text": [
            "Loading word list from file...\n",
            "   55901 words loaded.\n"
          ]
        }
      ]
    },
    {
      "cell_type": "code",
      "metadata": {
        "colab": {
          "base_uri": "https://localhost:8080/",
          "height": 35
        },
        "id": "qkBOhzXXNsQd",
        "outputId": "cdcdc3aa-5d29-49dd-9bea-194d61209cba"
      },
      "source": [
        "obj1.get_message_text()\n",
        "#obj1.get_valid_words()\n",
        "#obj1.build_transpose_dict('eouai')\n",
        "obj1.apply_transpose(obj1.build_transpose_dict('eouai'))"
      ],
      "execution_count": null,
      "outputs": [
        {
          "output_type": "execute_result",
          "data": {
            "application/vnd.google.colaboratory.intrinsic+json": {
              "type": "string"
            },
            "text/plain": [
              "'Thus us tho mossego!'"
            ]
          },
          "metadata": {},
          "execution_count": 50
        }
      ]
    },
    {
      "cell_type": "code",
      "metadata": {
        "colab": {
          "base_uri": "https://localhost:8080/"
        },
        "id": "v4sVzDVyazS5",
        "outputId": "4105b186-ea83-4248-965b-e40abe599629"
      },
      "source": [
        "obj10 = EncryptedSubMessage('This is the message!')"
      ],
      "execution_count": null,
      "outputs": [
        {
          "output_type": "stream",
          "name": "stdout",
          "text": [
            "Loading word list from file...\n",
            "   55901 words loaded.\n"
          ]
        }
      ]
    },
    {
      "cell_type": "code",
      "metadata": {
        "colab": {
          "base_uri": "https://localhost:8080/"
        },
        "id": "FShDF5Pra7kf",
        "outputId": "64bdb5e3-9d9e-4eb8-c92b-3b1c2d5ec232"
      },
      "source": [
        "obj10.get_message_text()\n",
        "#obj2.get_valid_words()\n",
        "obj10.decrypt_message()"
      ],
      "execution_count": null,
      "outputs": [
        {
          "output_type": "execute_result",
          "data": {
            "text/plain": [
              "('aeiou', 'This is the message!')"
            ]
          },
          "metadata": {},
          "execution_count": 67
        }
      ]
    }
  ]
}